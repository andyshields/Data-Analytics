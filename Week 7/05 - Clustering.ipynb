{
  "cells": [
    {
      "metadata": {
        "collapsed": true
      },
      "cell_type": "markdown",
      "source": "# Clustering with Scipy "
    },
    {
      "metadata": {
        "collapsed": true
      },
      "cell_type": "markdown",
      "source": "\n## Simple Clustering on dummy data\nLet us try the k-means clustering algorithm for clustering some random numbers between 0 and 1. The Python library and Scipy have some inbuilt methods to perform the algorithm and return a list defining which observation belongs to which cluster:\n\nDefine a set of observations consisting of random numbers ranging from 0 to 1. In this case, we have defined an observation set of 30x3:"
    },
    {
      "metadata": {
        "trusted": true
      },
      "cell_type": "code",
      "source": "import numpy as np\nobs=np.random.random(90).reshape(30,3)\nobs",
      "execution_count": 1,
      "outputs": [
        {
          "output_type": "execute_result",
          "execution_count": 1,
          "data": {
            "text/plain": "array([[0.24926752, 0.31874793, 0.82525494],\n       [0.33338933, 0.10616809, 0.21090907],\n       [0.93145971, 0.04627698, 0.90380029],\n       [0.06383004, 0.60219635, 0.55046697],\n       [0.99098177, 0.14444374, 0.59930166],\n       [0.88284888, 0.97682571, 0.1368186 ],\n       [0.77847351, 0.64777086, 0.682053  ],\n       [0.21081816, 0.93998846, 0.46207276],\n       [0.52045778, 0.89383492, 0.14294344],\n       [0.31024555, 0.31606558, 0.18951232],\n       [0.02322318, 0.89596442, 0.18710489],\n       [0.56429317, 0.42169365, 0.63329882],\n       [0.07373313, 0.78944879, 0.44400829],\n       [0.72901388, 0.13251107, 0.17971103],\n       [0.27219172, 0.27001971, 0.91172212],\n       [0.82888663, 0.71024761, 0.66370772],\n       [0.19079904, 0.12962948, 0.0794686 ],\n       [0.98567793, 0.87508009, 0.40306244],\n       [0.51710338, 0.09730527, 0.05203783],\n       [0.22953503, 0.95391852, 0.8997994 ],\n       [0.08896461, 0.93862257, 0.13704437],\n       [0.5268247 , 0.10281705, 0.59748638],\n       [0.64405424, 0.12960977, 0.23666967],\n       [0.85148062, 0.66112398, 0.66311982],\n       [0.81236565, 0.48801392, 0.66248805],\n       [0.70275049, 0.26040531, 0.86426999],\n       [0.92266329, 0.86871851, 0.92924473],\n       [0.77661525, 0.67889408, 0.49549497],\n       [0.14385676, 0.32013474, 0.99120319],\n       [0.58366085, 0.71317213, 0.57919838]])"
          },
          "metadata": {}
        }
      ]
    },
    {
      "metadata": {},
      "cell_type": "markdown",
      "source": "Decide that we want two clusters (no hard and fast rule, you can try with three clusters also). Select two observations at random to make them cluster centroids:\nSelecting two rows (out of 30) at random to be initial cluster centers\nThe two rows in the clust_cen array correspond to the two cluster centroids."
    },
    {
      "metadata": {
        "trusted": true
      },
      "cell_type": "code",
      "source": "c1=np.random.choice(range(len(obs)))\nc2=np.random.choice(range(len(obs)))\nclust_cen=np.vstack([obs[c1],obs[c2]])\nclust_cen",
      "execution_count": 2,
      "outputs": [
        {
          "output_type": "execute_result",
          "execution_count": 2,
          "data": {
            "text/plain": "array([[0.92266329, 0.86871851, 0.92924473],\n       [0.19079904, 0.12962948, 0.0794686 ]])"
          },
          "metadata": {}
        }
      ]
    },
    {
      "metadata": {},
      "cell_type": "markdown",
      "source": "\nWith the number of clusters and cluster centroids defined, we are ready to implement the k-means clustering. This can be done using the cluster method of Scipy:\n"
    },
    {
      "metadata": {
        "trusted": true
      },
      "cell_type": "code",
      "source": "from scipy.cluster.vq import vq\nvq(obs,clust_cen)\n",
      "execution_count": 3,
      "outputs": [
        {
          "output_type": "execute_result",
          "execution_count": 3,
          "data": {
            "text/plain": "(array([1, 1, 0, 1, 0, 0, 0, 0, 1, 1, 1, 0, 1, 1, 1, 0, 1, 0, 1, 0, 1, 1,\n        1, 0, 0, 0, 0, 0, 1, 0], dtype=int32),\n array([0.77160976, 0.19534335, 0.82288205, 0.679176  , 0.79881399,\n        0.80075684, 0.36154158, 0.85443112, 0.83469388, 0.24725595,\n        0.7917932 , 0.64485995, 0.76285984, 0.54747791, 0.84792695,\n        0.32313619, 0.        , 0.5299803 , 0.32904684, 0.69896556,\n        0.81740751, 0.61804091, 0.47974207, 0.34494193, 0.47776634,\n        0.65009869, 0.        , 0.49548178, 0.93260699, 0.51151713]))"
          },
          "metadata": {}
        }
      ]
    },
    {
      "metadata": {},
      "cell_type": "markdown",
      "source": "Cluster label and distance from cluster centers for each observation\nThe first array gives us the information as to which cluster the observation belongs to. The first observation belongs to cluster c2, the second observation belongs to c1, the third belongs to c2, the fourth to c1, and so on.\n\nThe second array gives the distance of the observation from the final cluster centroid. Hence, the first observation is at a distance of 0.33 units from the centroid of the cluster c2, the second observation is at a distance of 0.43 from the centroid of the cluster c1, and so on.\n\nFind the cluster centroid for the two clusters. This is done using the kmeans method in Scipy:\n"
    },
    {
      "metadata": {
        "trusted": true
      },
      "cell_type": "code",
      "source": "from scipy.cluster.vq import kmeans\nkmeans(obs,clust_cen)\n",
      "execution_count": 4,
      "outputs": [
        {
          "output_type": "execute_result",
          "execution_count": 4,
          "data": {
            "text/plain": "(array([[0.77440663, 0.60332751, 0.65111842],\n        [0.30611081, 0.43644151, 0.38735099]]), 0.41792644434971443)"
          },
          "metadata": {}
        }
      ]
    },
    {
      "metadata": {},
      "cell_type": "markdown",
      "source": "The final cluster centers and the value of the squared error function or J-score\nThe two rows in the array correspond to the two final cluster centroids. The centroid of the first cluster is at (0.524, 0.837, 0.676). The number at the end is the value of the squared error function or J-score, which we seek to minimize. Its value comes out to be 0.35.\n\nK-means also works if one provides just the number of required clusters and not the cluster centroids. If only the required number of clusters is provided, then the method will randomly select that many observations at random from the observation set to become a cluster centroid. Thus, we could have also written the following:\n"
    },
    {
      "metadata": {
        "trusted": true
      },
      "cell_type": "code",
      "source": "from scipy.cluster.vq import kmeans\nkmeans(obs,2)\n",
      "execution_count": 5,
      "outputs": [
        {
          "output_type": "execute_result",
          "execution_count": 5,
          "data": {
            "text/plain": "(array([[0.25944554, 0.74364948, 0.32292396],\n        [0.65725052, 0.39965772, 0.60420171]]), 0.42546009638175286)"
          },
          "metadata": {}
        }
      ]
    },
    {
      "metadata": {},
      "cell_type": "markdown",
      "source": "## Clustering on real data\nNow, as we understand the mathematics behind the k-means clustering better, let us implement it on a dataset and see how to glean insights from the performed clustering.\n\nThe dataset we will be using for this is about wine. Each observation represents a separate sample of wine and has information about the chemical composition of that wine. \n\nSome wine connoisseur painstakingly analyzed various samples of wine to create this dataset. Each column of the dataset has information about the composition of one chemical. There is one column called quality as well, which is based on the ratings given by the professional wine testers.\n\nThe prices of wines are generally decided by the ratings given by the professional testers. However, this can be very subjective and certainly there is a scope for a more logical process to wine prices. One approach is to cluster them based on their chemical compositions and quality and then price the similar clusters together based on the desirable components present in the wine clusters.\n\n### Importing and exploring the dataset\nLet us import and have a look at this dataset:\n"
    },
    {
      "metadata": {
        "trusted": true
      },
      "cell_type": "code",
      "source": "import pandas as pd\ndf=pd.read_csv('wine.csv',sep=';')\ndf.head()\n",
      "execution_count": 1,
      "outputs": [
        {
          "output_type": "execute_result",
          "execution_count": 1,
          "data": {
            "text/html": "<div>\n<style scoped>\n    .dataframe tbody tr th:only-of-type {\n        vertical-align: middle;\n    }\n\n    .dataframe tbody tr th {\n        vertical-align: top;\n    }\n\n    .dataframe thead th {\n        text-align: right;\n    }\n</style>\n<table border=\"1\" class=\"dataframe\">\n  <thead>\n    <tr style=\"text-align: right;\">\n      <th></th>\n      <th>fixed acidity</th>\n      <th>volatile acidity</th>\n      <th>citric acid</th>\n      <th>residual sugar</th>\n      <th>chlorides</th>\n      <th>free sulfur dioxide</th>\n      <th>total sulfur dioxide</th>\n      <th>density</th>\n      <th>pH</th>\n      <th>sulphates</th>\n      <th>alcohol</th>\n      <th>quality</th>\n    </tr>\n  </thead>\n  <tbody>\n    <tr>\n      <th>0</th>\n      <td>7.4</td>\n      <td>0.70</td>\n      <td>0.00</td>\n      <td>1.9</td>\n      <td>0.076</td>\n      <td>11.0</td>\n      <td>34.0</td>\n      <td>0.9978</td>\n      <td>3.51</td>\n      <td>0.56</td>\n      <td>9.4</td>\n      <td>5</td>\n    </tr>\n    <tr>\n      <th>1</th>\n      <td>7.8</td>\n      <td>0.88</td>\n      <td>0.00</td>\n      <td>2.6</td>\n      <td>0.098</td>\n      <td>25.0</td>\n      <td>67.0</td>\n      <td>0.9968</td>\n      <td>3.20</td>\n      <td>0.68</td>\n      <td>9.8</td>\n      <td>5</td>\n    </tr>\n    <tr>\n      <th>2</th>\n      <td>7.8</td>\n      <td>0.76</td>\n      <td>0.04</td>\n      <td>2.3</td>\n      <td>0.092</td>\n      <td>15.0</td>\n      <td>54.0</td>\n      <td>0.9970</td>\n      <td>3.26</td>\n      <td>0.65</td>\n      <td>9.8</td>\n      <td>5</td>\n    </tr>\n    <tr>\n      <th>3</th>\n      <td>11.2</td>\n      <td>0.28</td>\n      <td>0.56</td>\n      <td>1.9</td>\n      <td>0.075</td>\n      <td>17.0</td>\n      <td>60.0</td>\n      <td>0.9980</td>\n      <td>3.16</td>\n      <td>0.58</td>\n      <td>9.8</td>\n      <td>6</td>\n    </tr>\n    <tr>\n      <th>4</th>\n      <td>7.4</td>\n      <td>0.70</td>\n      <td>0.00</td>\n      <td>1.9</td>\n      <td>0.076</td>\n      <td>11.0</td>\n      <td>34.0</td>\n      <td>0.9978</td>\n      <td>3.51</td>\n      <td>0.56</td>\n      <td>9.4</td>\n      <td>5</td>\n    </tr>\n  </tbody>\n</table>\n</div>",
            "text/plain": "   fixed acidity  volatile acidity  citric acid  residual sugar  chlorides  \\\n0            7.4              0.70         0.00             1.9      0.076   \n1            7.8              0.88         0.00             2.6      0.098   \n2            7.8              0.76         0.04             2.3      0.092   \n3           11.2              0.28         0.56             1.9      0.075   \n4            7.4              0.70         0.00             1.9      0.076   \n\n   free sulfur dioxide  total sulfur dioxide  density    pH  sulphates  \\\n0                 11.0                  34.0   0.9978  3.51       0.56   \n1                 25.0                  67.0   0.9968  3.20       0.68   \n2                 15.0                  54.0   0.9970  3.26       0.65   \n3                 17.0                  60.0   0.9980  3.16       0.58   \n4                 11.0                  34.0   0.9978  3.51       0.56   \n\n   alcohol  quality  \n0      9.4        5  \n1      9.8        5  \n2      9.8        5  \n3      9.8        6  \n4      9.4        5  "
          },
          "metadata": {}
        }
      ]
    },
    {
      "metadata": {},
      "cell_type": "markdown",
      "source": "Let us focus on the quality variable for a while and plot a histogram to see the number of wine samples in each quality type:"
    },
    {
      "metadata": {
        "trusted": true
      },
      "cell_type": "code",
      "source": "import matplotlib.pyplot as plt\nplt.hist(df['quality'])",
      "execution_count": 3,
      "outputs": [
        {
          "output_type": "execute_result",
          "execution_count": 3,
          "data": {
            "text/plain": "(array([ 10.,   0.,  53.,   0., 681.,   0., 638.,   0., 199.,  18.]),\n array([3. , 3.5, 4. , 4.5, 5. , 5.5, 6. , 6.5, 7. , 7.5, 8. ]),\n <a list of 10 Patch objects>)"
          },
          "metadata": {}
        },
        {
          "output_type": "display_data",
          "data": {
            "image/png": "[encoded data removed]",
            "text/plain": "<Figure size 432x288 with 1 Axes>"
          },
          "metadata": {
            "needs_background": "light"
          }
        }
      ]
    },
    {
      "metadata": {},
      "cell_type": "markdown",
      "source": "As it is evident from the plot, more than 75% of the samples were assigned the quality of 5 and 6. Also, let's look at the mean of the various chemical compositions across samples for the different groups of the wine quality:"
    },
    {
      "metadata": {
        "trusted": true
      },
      "cell_type": "code",
      "source": "",
      "execution_count": null,
      "outputs": []
    },
    {
      "metadata": {
        "trusted": true
      },
      "cell_type": "code",
      "source": "df.groupby('quality').mean()",
      "execution_count": 10,
      "outputs": [
        {
          "output_type": "execute_result",
          "execution_count": 10,
          "data": {
            "text/html": "<div>\n<style scoped>\n    .dataframe tbody tr th:only-of-type {\n        vertical-align: middle;\n    }\n\n    .dataframe tbody tr th {\n        vertical-align: top;\n    }\n\n    .dataframe thead th {\n        text-align: right;\n    }\n</style>\n<table border=\"1\" class=\"dataframe\">\n  <thead>\n    <tr style=\"text-align: right;\">\n      <th></th>\n      <th>fixed acidity</th>\n      <th>volatile acidity</th>\n      <th>citric acid</th>\n      <th>residual sugar</th>\n      <th>chlorides</th>\n      <th>free sulfur dioxide</th>\n      <th>total sulfur dioxide</th>\n      <th>density</th>\n      <th>pH</th>\n      <th>sulphates</th>\n      <th>alcohol</th>\n    </tr>\n    <tr>\n      <th>quality</th>\n      <th></th>\n      <th></th>\n      <th></th>\n      <th></th>\n      <th></th>\n      <th></th>\n      <th></th>\n      <th></th>\n      <th></th>\n      <th></th>\n      <th></th>\n    </tr>\n  </thead>\n  <tbody>\n    <tr>\n      <th>3</th>\n      <td>8.360000</td>\n      <td>0.884500</td>\n      <td>0.171000</td>\n      <td>2.635000</td>\n      <td>0.122500</td>\n      <td>11.000000</td>\n      <td>24.900000</td>\n      <td>0.997464</td>\n      <td>3.398000</td>\n      <td>0.570000</td>\n      <td>9.955000</td>\n    </tr>\n    <tr>\n      <th>4</th>\n      <td>7.779245</td>\n      <td>0.693962</td>\n      <td>0.174151</td>\n      <td>2.694340</td>\n      <td>0.090679</td>\n      <td>12.264151</td>\n      <td>36.245283</td>\n      <td>0.996542</td>\n      <td>3.381509</td>\n      <td>0.596415</td>\n      <td>10.265094</td>\n    </tr>\n    <tr>\n      <th>5</th>\n      <td>8.167254</td>\n      <td>0.577041</td>\n      <td>0.243686</td>\n      <td>2.528855</td>\n      <td>0.092736</td>\n      <td>16.983847</td>\n      <td>56.513950</td>\n      <td>0.997104</td>\n      <td>3.304949</td>\n      <td>0.620969</td>\n      <td>9.899706</td>\n    </tr>\n    <tr>\n      <th>6</th>\n      <td>8.347179</td>\n      <td>0.497484</td>\n      <td>0.273824</td>\n      <td>2.477194</td>\n      <td>0.084956</td>\n      <td>15.711599</td>\n      <td>40.869906</td>\n      <td>0.996615</td>\n      <td>3.318072</td>\n      <td>0.675329</td>\n      <td>10.629519</td>\n    </tr>\n    <tr>\n      <th>7</th>\n      <td>8.872362</td>\n      <td>0.403920</td>\n      <td>0.375176</td>\n      <td>2.720603</td>\n      <td>0.076588</td>\n      <td>14.045226</td>\n      <td>35.020101</td>\n      <td>0.996104</td>\n      <td>3.290754</td>\n      <td>0.741256</td>\n      <td>11.465913</td>\n    </tr>\n    <tr>\n      <th>8</th>\n      <td>8.566667</td>\n      <td>0.423333</td>\n      <td>0.391111</td>\n      <td>2.577778</td>\n      <td>0.068444</td>\n      <td>13.277778</td>\n      <td>33.444444</td>\n      <td>0.995212</td>\n      <td>3.267222</td>\n      <td>0.767778</td>\n      <td>12.094444</td>\n    </tr>\n  </tbody>\n</table>\n</div>",
            "text/plain": "         fixed acidity  volatile acidity  citric acid  residual sugar  \\\nquality                                                                 \n3             8.360000          0.884500     0.171000        2.635000   \n4             7.779245          0.693962     0.174151        2.694340   \n5             8.167254          0.577041     0.243686        2.528855   \n6             8.347179          0.497484     0.273824        2.477194   \n7             8.872362          0.403920     0.375176        2.720603   \n8             8.566667          0.423333     0.391111        2.577778   \n\n         chlorides  free sulfur dioxide  total sulfur dioxide   density  \\\nquality                                                                   \n3         0.122500            11.000000             24.900000  0.997464   \n4         0.090679            12.264151             36.245283  0.996542   \n5         0.092736            16.983847             56.513950  0.997104   \n6         0.084956            15.711599             40.869906  0.996615   \n7         0.076588            14.045226             35.020101  0.996104   \n8         0.068444            13.277778             33.444444  0.995212   \n\n               pH  sulphates    alcohol  \nquality                                  \n3        3.398000   0.570000   9.955000  \n4        3.381509   0.596415  10.265094  \n5        3.304949   0.620969   9.899706  \n6        3.318072   0.675329  10.629519  \n7        3.290754   0.741256  11.465913  \n8        3.267222   0.767778  12.094444  "
          },
          "metadata": {}
        }
      ]
    },
    {
      "metadata": {},
      "cell_type": "markdown",
      "source": "Some observations based on this table are as follows:\n•\tThe lesser the volatile acidity and chlorides, the higher the wine quality\n•\tThe more the sulphates and citric acid content, the higher the wine quality\n•\tThe density and pH don't vary much across the wine quality\nNext, let's proceed with clustering these observations using k-means.\n"
    },
    {
      "metadata": {},
      "cell_type": "markdown",
      "source": "Normalizing the values in the dataset\nAs discussed, normalizing the values is important to get the clustering right. This can be achieved by applying the following formula to each value in the dataset:\n\n![image.png](attachment:image.png)\n \nTo normalize our dataset, we write the following code snippet:\n",
      "attachments": {
        "image.png": {
          "image/png": "[encoded data removed]"
        }
      }
    },
    {
      "metadata": {
        "trusted": true
      },
      "cell_type": "code",
      "source": "df_norm = (df - df.min()) / (df.max() - df.min())\ndf_norm.head() \n",
      "execution_count": 11,
      "outputs": [
        {
          "output_type": "execute_result",
          "execution_count": 11,
          "data": {
            "text/html": "<div>\n<style scoped>\n    .dataframe tbody tr th:only-of-type {\n        vertical-align: middle;\n    }\n\n    .dataframe tbody tr th {\n        vertical-align: top;\n    }\n\n    .dataframe thead th {\n        text-align: right;\n    }\n</style>\n<table border=\"1\" class=\"dataframe\">\n  <thead>\n    <tr style=\"text-align: right;\">\n      <th></th>\n      <th>fixed acidity</th>\n      <th>volatile acidity</th>\n      <th>citric acid</th>\n      <th>residual sugar</th>\n      <th>chlorides</th>\n      <th>free sulfur dioxide</th>\n      <th>total sulfur dioxide</th>\n      <th>density</th>\n      <th>pH</th>\n      <th>sulphates</th>\n      <th>alcohol</th>\n      <th>quality</th>\n    </tr>\n  </thead>\n  <tbody>\n    <tr>\n      <th>0</th>\n      <td>0.247788</td>\n      <td>0.397260</td>\n      <td>0.00</td>\n      <td>0.068493</td>\n      <td>0.106845</td>\n      <td>0.140845</td>\n      <td>0.098940</td>\n      <td>0.567548</td>\n      <td>0.606299</td>\n      <td>0.137725</td>\n      <td>0.153846</td>\n      <td>0.4</td>\n    </tr>\n    <tr>\n      <th>1</th>\n      <td>0.283186</td>\n      <td>0.520548</td>\n      <td>0.00</td>\n      <td>0.116438</td>\n      <td>0.143573</td>\n      <td>0.338028</td>\n      <td>0.215548</td>\n      <td>0.494126</td>\n      <td>0.362205</td>\n      <td>0.209581</td>\n      <td>0.215385</td>\n      <td>0.4</td>\n    </tr>\n    <tr>\n      <th>2</th>\n      <td>0.283186</td>\n      <td>0.438356</td>\n      <td>0.04</td>\n      <td>0.095890</td>\n      <td>0.133556</td>\n      <td>0.197183</td>\n      <td>0.169611</td>\n      <td>0.508811</td>\n      <td>0.409449</td>\n      <td>0.191617</td>\n      <td>0.215385</td>\n      <td>0.4</td>\n    </tr>\n    <tr>\n      <th>3</th>\n      <td>0.584071</td>\n      <td>0.109589</td>\n      <td>0.56</td>\n      <td>0.068493</td>\n      <td>0.105175</td>\n      <td>0.225352</td>\n      <td>0.190813</td>\n      <td>0.582232</td>\n      <td>0.330709</td>\n      <td>0.149701</td>\n      <td>0.215385</td>\n      <td>0.6</td>\n    </tr>\n    <tr>\n      <th>4</th>\n      <td>0.247788</td>\n      <td>0.397260</td>\n      <td>0.00</td>\n      <td>0.068493</td>\n      <td>0.106845</td>\n      <td>0.140845</td>\n      <td>0.098940</td>\n      <td>0.567548</td>\n      <td>0.606299</td>\n      <td>0.137725</td>\n      <td>0.153846</td>\n      <td>0.4</td>\n    </tr>\n  </tbody>\n</table>\n</div>",
            "text/plain": "   fixed acidity  volatile acidity  citric acid  residual sugar  chlorides  \\\n0       0.247788          0.397260         0.00        0.068493   0.106845   \n1       0.283186          0.520548         0.00        0.116438   0.143573   \n2       0.283186          0.438356         0.04        0.095890   0.133556   \n3       0.584071          0.109589         0.56        0.068493   0.105175   \n4       0.247788          0.397260         0.00        0.068493   0.106845   \n\n   free sulfur dioxide  total sulfur dioxide   density        pH  sulphates  \\\n0             0.140845              0.098940  0.567548  0.606299   0.137725   \n1             0.338028              0.215548  0.494126  0.362205   0.209581   \n2             0.197183              0.169611  0.508811  0.409449   0.191617   \n3             0.225352              0.190813  0.582232  0.330709   0.149701   \n4             0.140845              0.098940  0.567548  0.606299   0.137725   \n\n    alcohol  quality  \n0  0.153846      0.4  \n1  0.215385      0.4  \n2  0.215385      0.4  \n3  0.215385      0.6  \n4  0.153846      0.4  "
          },
          "metadata": {}
        }
      ]
    },
    {
      "metadata": {},
      "cell_type": "markdown",
      "source": "# Clustering with scikit-learn\n\nK-Means clustering using scikit-learn Let us randomly choose 6 as the required number of clusters for now as there were that many groups of quality in the dataset. Then, to cluster the observations, one needs to write the following code snippet:\n\nThe code below fits the k-means clustering model to the wine dataset. To know which observation belongs to which of the clusters, one can call the labels_ parameter of the model. It returns an array depicting the cluster the row belongs to: model.labels_\n"
    },
    {
      "metadata": {
        "trusted": true
      },
      "cell_type": "code",
      "source": "from sklearn.cluster import KMeans\nfrom sklearn import datasets\nmodel=KMeans(n_clusters=6)\nmodel.fit(df_norm)",
      "execution_count": 12,
      "outputs": [
        {
          "output_type": "execute_result",
          "execution_count": 12,
          "data": {
            "text/plain": "KMeans(algorithm='auto', copy_x=True, init='k-means++', max_iter=300,\n    n_clusters=6, n_init=10, n_jobs=None, precompute_distances='auto',\n    random_state=None, tol=0.0001, verbose=0)"
          },
          "metadata": {}
        }
      ]
    },
    {
      "metadata": {},
      "cell_type": "markdown",
      "source": "For better observation, let us make this array part of the data frame so that we can look at the cluster each row belongs to, in the same data frame:"
    },
    {
      "metadata": {
        "trusted": true
      },
      "cell_type": "code",
      "source": "md=pd.Series(model.labels_)\ndf_norm['clust']=md\ndf_norm.head()\n",
      "execution_count": 13,
      "outputs": [
        {
          "output_type": "execute_result",
          "execution_count": 13,
          "data": {
            "text/html": "<div>\n<style scoped>\n    .dataframe tbody tr th:only-of-type {\n        vertical-align: middle;\n    }\n\n    .dataframe tbody tr th {\n        vertical-align: top;\n    }\n\n    .dataframe thead th {\n        text-align: right;\n    }\n</style>\n<table border=\"1\" class=\"dataframe\">\n  <thead>\n    <tr style=\"text-align: right;\">\n      <th></th>\n      <th>fixed acidity</th>\n      <th>volatile acidity</th>\n      <th>citric acid</th>\n      <th>residual sugar</th>\n      <th>chlorides</th>\n      <th>free sulfur dioxide</th>\n      <th>total sulfur dioxide</th>\n      <th>density</th>\n      <th>pH</th>\n      <th>sulphates</th>\n      <th>alcohol</th>\n      <th>quality</th>\n      <th>clust</th>\n    </tr>\n  </thead>\n  <tbody>\n    <tr>\n      <th>0</th>\n      <td>0.247788</td>\n      <td>0.397260</td>\n      <td>0.00</td>\n      <td>0.068493</td>\n      <td>0.106845</td>\n      <td>0.140845</td>\n      <td>0.098940</td>\n      <td>0.567548</td>\n      <td>0.606299</td>\n      <td>0.137725</td>\n      <td>0.153846</td>\n      <td>0.4</td>\n      <td>4</td>\n    </tr>\n    <tr>\n      <th>1</th>\n      <td>0.283186</td>\n      <td>0.520548</td>\n      <td>0.00</td>\n      <td>0.116438</td>\n      <td>0.143573</td>\n      <td>0.338028</td>\n      <td>0.215548</td>\n      <td>0.494126</td>\n      <td>0.362205</td>\n      <td>0.209581</td>\n      <td>0.215385</td>\n      <td>0.4</td>\n      <td>4</td>\n    </tr>\n    <tr>\n      <th>2</th>\n      <td>0.283186</td>\n      <td>0.438356</td>\n      <td>0.04</td>\n      <td>0.095890</td>\n      <td>0.133556</td>\n      <td>0.197183</td>\n      <td>0.169611</td>\n      <td>0.508811</td>\n      <td>0.409449</td>\n      <td>0.191617</td>\n      <td>0.215385</td>\n      <td>0.4</td>\n      <td>4</td>\n    </tr>\n    <tr>\n      <th>3</th>\n      <td>0.584071</td>\n      <td>0.109589</td>\n      <td>0.56</td>\n      <td>0.068493</td>\n      <td>0.105175</td>\n      <td>0.225352</td>\n      <td>0.190813</td>\n      <td>0.582232</td>\n      <td>0.330709</td>\n      <td>0.149701</td>\n      <td>0.215385</td>\n      <td>0.6</td>\n      <td>3</td>\n    </tr>\n    <tr>\n      <th>4</th>\n      <td>0.247788</td>\n      <td>0.397260</td>\n      <td>0.00</td>\n      <td>0.068493</td>\n      <td>0.106845</td>\n      <td>0.140845</td>\n      <td>0.098940</td>\n      <td>0.567548</td>\n      <td>0.606299</td>\n      <td>0.137725</td>\n      <td>0.153846</td>\n      <td>0.4</td>\n      <td>4</td>\n    </tr>\n  </tbody>\n</table>\n</div>",
            "text/plain": "   fixed acidity  volatile acidity  citric acid  residual sugar  chlorides  \\\n0       0.247788          0.397260         0.00        0.068493   0.106845   \n1       0.283186          0.520548         0.00        0.116438   0.143573   \n2       0.283186          0.438356         0.04        0.095890   0.133556   \n3       0.584071          0.109589         0.56        0.068493   0.105175   \n4       0.247788          0.397260         0.00        0.068493   0.106845   \n\n   free sulfur dioxide  total sulfur dioxide   density        pH  sulphates  \\\n0             0.140845              0.098940  0.567548  0.606299   0.137725   \n1             0.338028              0.215548  0.494126  0.362205   0.209581   \n2             0.197183              0.169611  0.508811  0.409449   0.191617   \n3             0.225352              0.190813  0.582232  0.330709   0.149701   \n4             0.140845              0.098940  0.567548  0.606299   0.137725   \n\n    alcohol  quality  clust  \n0  0.153846      0.4      4  \n1  0.215385      0.4      4  \n2  0.215385      0.4      4  \n3  0.215385      0.6      3  \n4  0.153846      0.4      4  "
          },
          "metadata": {}
        }
      ]
    },
    {
      "metadata": {},
      "cell_type": "markdown",
      "source": "The last column clust of the data frame denotes the cluster to which that particular observation belongs. The 1st, 2nd, 3rd, and 5th observations belong to the 3rd cluster (counting starts from 0), while the 4th observation belongs to the 2nd cluster.\n\nThe final cluster's centroids for each cluster can be found out as follows:"
    },
    {
      "metadata": {
        "trusted": true
      },
      "cell_type": "code",
      "source": "model.cluster_centers_",
      "execution_count": 14,
      "outputs": [
        {
          "output_type": "execute_result",
          "execution_count": 14,
          "data": {
            "text/plain": "array([[0.36290046, 0.15975098, 0.42329457, 0.10547414, 0.10543412,\n        0.16350038, 0.08386063, 0.40849071, 0.41863517, 0.23557536,\n        0.49129398, 0.69689922],\n       [0.31657408, 0.27714878, 0.30457413, 0.15202455, 0.12698872,\n        0.38048163, 0.29785645, 0.5390477 , 0.43592737, 0.17890402,\n        0.21400954, 0.45615142],\n       [0.17610619, 0.32432996, 0.08913043, 0.09416319, 0.09608042,\n        0.24856093, 0.12292211, 0.32587627, 0.57733653, 0.18516011,\n        0.48637681, 0.61043478],\n       [0.57677683, 0.20241599, 0.50726562, 0.13187607, 0.13031485,\n        0.13743398, 0.0910032 , 0.65313819, 0.33569144, 0.22445734,\n        0.29060497, 0.55      ],\n       [0.26395373, 0.35904298, 0.12348425, 0.09132645, 0.12283596,\n        0.14482367, 0.10768343, 0.49211153, 0.48648397, 0.1554293 ,\n        0.22016455, 0.43976378],\n       [0.33716814, 0.29223744, 0.48133333, 0.07557078, 0.53789649,\n        0.20938967, 0.21071849, 0.5143906 , 0.2335958 , 0.59001996,\n        0.16512821, 0.46666667]])"
          },
          "metadata": {}
        }
      ]
    },
    {
      "metadata": {},
      "cell_type": "markdown",
      "source": "Note that each cluster centroid would have 12 coordinates as there are 12 variables in the dataset."
    },
    {
      "metadata": {},
      "cell_type": "markdown",
      "source": "Let us plot a histogram for the clust variable to get an idea of the number of observations in each cluster:"
    },
    {
      "metadata": {
        "trusted": true
      },
      "cell_type": "code",
      "source": "import matplotlib.pyplot as plt\nplt.hist(df_norm['clust'])\nplt.title('Histogram of Clusters')\nplt.xlabel('Cluster')\nplt.ylabel('Frequency')",
      "execution_count": 15,
      "outputs": [
        {
          "output_type": "execute_result",
          "execution_count": 15,
          "data": {
            "text/plain": "Text(0, 0.5, 'Frequency')"
          },
          "metadata": {}
        },
        {
          "output_type": "display_data",
          "data": {
            "image/png": "[encoded data removed]",
            "text/plain": "<Figure size 432x288 with 1 Axes>"
          },
          "metadata": {
            "needs_background": "light"
          }
        }
      ]
    },
    {
      "metadata": {},
      "cell_type": "markdown",
      "source": "As can be observed, the number of wine samples is more uniformly (or rather normally) distributed in this case when compared to the distribution based on the wine quality. This is an improvement from the classification based on the wine quality as it provides us with better segregated and identifiable clusters.\n\n## Interpreting the cluster\nThis clustering can be used to price the wine samples in the same cluster similarly and target the customers who prefer the particular ingredient of wine by marketing them as a different brand having that ingredient as its specialty.\nLet us calculate the mean of the composition for each cluster and each component. If you observe the output table, it is exactly similar to the six cluster centroids observed above. This is because the cluster centroids are nothing but the mean of the coordinates of all the observations in a particular cluster:\n"
    },
    {
      "metadata": {
        "trusted": true
      },
      "cell_type": "code",
      "source": "df_norm.groupby('clust').mean()",
      "execution_count": 16,
      "outputs": [
        {
          "output_type": "execute_result",
          "execution_count": 16,
          "data": {
            "text/html": "<div>\n<style scoped>\n    .dataframe tbody tr th:only-of-type {\n        vertical-align: middle;\n    }\n\n    .dataframe tbody tr th {\n        vertical-align: top;\n    }\n\n    .dataframe thead th {\n        text-align: right;\n    }\n</style>\n<table border=\"1\" class=\"dataframe\">\n  <thead>\n    <tr style=\"text-align: right;\">\n      <th></th>\n      <th>fixed acidity</th>\n      <th>volatile acidity</th>\n      <th>citric acid</th>\n      <th>residual sugar</th>\n      <th>chlorides</th>\n      <th>free sulfur dioxide</th>\n      <th>total sulfur dioxide</th>\n      <th>density</th>\n      <th>pH</th>\n      <th>sulphates</th>\n      <th>alcohol</th>\n      <th>quality</th>\n    </tr>\n    <tr>\n      <th>clust</th>\n      <th></th>\n      <th></th>\n      <th></th>\n      <th></th>\n      <th></th>\n      <th></th>\n      <th></th>\n      <th></th>\n      <th></th>\n      <th></th>\n      <th></th>\n      <th></th>\n    </tr>\n  </thead>\n  <tbody>\n    <tr>\n      <th>0</th>\n      <td>0.362900</td>\n      <td>0.159751</td>\n      <td>0.423295</td>\n      <td>0.105474</td>\n      <td>0.105434</td>\n      <td>0.163500</td>\n      <td>0.083861</td>\n      <td>0.408491</td>\n      <td>0.418635</td>\n      <td>0.235575</td>\n      <td>0.491294</td>\n      <td>0.696899</td>\n    </tr>\n    <tr>\n      <th>1</th>\n      <td>0.316574</td>\n      <td>0.277149</td>\n      <td>0.304574</td>\n      <td>0.152025</td>\n      <td>0.126989</td>\n      <td>0.380482</td>\n      <td>0.297856</td>\n      <td>0.539048</td>\n      <td>0.435927</td>\n      <td>0.178904</td>\n      <td>0.214010</td>\n      <td>0.456151</td>\n    </tr>\n    <tr>\n      <th>2</th>\n      <td>0.176106</td>\n      <td>0.324330</td>\n      <td>0.089130</td>\n      <td>0.094163</td>\n      <td>0.096080</td>\n      <td>0.248561</td>\n      <td>0.122922</td>\n      <td>0.325876</td>\n      <td>0.577337</td>\n      <td>0.185160</td>\n      <td>0.486377</td>\n      <td>0.610435</td>\n    </tr>\n    <tr>\n      <th>3</th>\n      <td>0.576777</td>\n      <td>0.202416</td>\n      <td>0.507266</td>\n      <td>0.131876</td>\n      <td>0.130315</td>\n      <td>0.137434</td>\n      <td>0.091003</td>\n      <td>0.653138</td>\n      <td>0.335691</td>\n      <td>0.224457</td>\n      <td>0.290605</td>\n      <td>0.550000</td>\n    </tr>\n    <tr>\n      <th>4</th>\n      <td>0.263954</td>\n      <td>0.359043</td>\n      <td>0.123484</td>\n      <td>0.091326</td>\n      <td>0.122836</td>\n      <td>0.144824</td>\n      <td>0.107683</td>\n      <td>0.492112</td>\n      <td>0.486484</td>\n      <td>0.155429</td>\n      <td>0.220165</td>\n      <td>0.439764</td>\n    </tr>\n    <tr>\n      <th>5</th>\n      <td>0.337168</td>\n      <td>0.292237</td>\n      <td>0.481333</td>\n      <td>0.075571</td>\n      <td>0.537896</td>\n      <td>0.209390</td>\n      <td>0.210718</td>\n      <td>0.514391</td>\n      <td>0.233596</td>\n      <td>0.590020</td>\n      <td>0.165128</td>\n      <td>0.466667</td>\n    </tr>\n  </tbody>\n</table>\n</div>",
            "text/plain": "       fixed acidity  volatile acidity  citric acid  residual sugar  \\\nclust                                                                 \n0           0.362900          0.159751     0.423295        0.105474   \n1           0.316574          0.277149     0.304574        0.152025   \n2           0.176106          0.324330     0.089130        0.094163   \n3           0.576777          0.202416     0.507266        0.131876   \n4           0.263954          0.359043     0.123484        0.091326   \n5           0.337168          0.292237     0.481333        0.075571   \n\n       chlorides  free sulfur dioxide  total sulfur dioxide   density  \\\nclust                                                                   \n0       0.105434             0.163500              0.083861  0.408491   \n1       0.126989             0.380482              0.297856  0.539048   \n2       0.096080             0.248561              0.122922  0.325876   \n3       0.130315             0.137434              0.091003  0.653138   \n4       0.122836             0.144824              0.107683  0.492112   \n5       0.537896             0.209390              0.210718  0.514391   \n\n             pH  sulphates   alcohol   quality  \nclust                                           \n0      0.418635   0.235575  0.491294  0.696899  \n1      0.435927   0.178904  0.214010  0.456151  \n2      0.577337   0.185160  0.486377  0.610435  \n3      0.335691   0.224457  0.290605  0.550000  \n4      0.486484   0.155429  0.220165  0.439764  \n5      0.233596   0.590020  0.165128  0.466667  "
          },
          "metadata": {}
        }
      ]
    },
    {
      "metadata": {},
      "cell_type": "markdown",
      "source": "The wine quality and taste mainly depends on the quantity of acid, alcohol, and sugar. A few examples of how the information on clustering can be used for efficient marketing and pricing are as follows:\n•\tPeople from cooler regions prefer wines with higher volatile acid content. So, clusters 2 and 5 can be marketed in cooler (temperature-wise) markets.\n•\tSome people might prefer wine with higher alcohol content, and the wine samples from clusters 3 and 5 can be marketed to them.\n•\tSome connoisseurs trust others' judgment more and they might like to go with professional wine testers' judgments. These kinds of people should be sold the wine samples from clusters 3 and 5 as they have high mean quality.\nMore information from the wine industry can be combined with this result to form a better marketing and pricing strategy.\n"
    },
    {
      "metadata": {},
      "cell_type": "markdown",
      "source": "## Hierarchical clustering using scikit-learn\nHierarchical clustering or agglomerative clustering can be implemented using the AgglomerativeClustering method in scikit-learn's cluster library as shown in the following code. It returns a label for each row denoting which cluster that row belongs to. The number of clusters needs to be defined in advance. We have used the ward method of linkage:\n"
    },
    {
      "metadata": {
        "trusted": true
      },
      "cell_type": "code",
      "source": "from sklearn.cluster import AgglomerativeClustering\nward = AgglomerativeClustering(n_clusters=6, linkage='ward').fit(df_norm)\nmd=pd.Series(ward.labels_)\n",
      "execution_count": 17,
      "outputs": []
    },
    {
      "metadata": {},
      "cell_type": "markdown",
      "source": "We can plot a histogram of cluster labels to get a sense of how many rows belong to a particular cluster:\n\nThe plot looks as follows. The observations are more uniformly distributed across the cluster except Cluster 2 that has more observations than the others:"
    },
    {
      "metadata": {
        "trusted": true
      },
      "cell_type": "code",
      "source": "import matplotlib.pyplot as plt\nplt.hist(md)\nplt.title('Histogram of Cluster Label')\nplt.xlabel('Cluster')\nplt.ylabel('Frequency')",
      "execution_count": 18,
      "outputs": [
        {
          "output_type": "execute_result",
          "execution_count": 18,
          "data": {
            "text/plain": "Text(0, 0.5, 'Frequency')"
          },
          "metadata": {}
        },
        {
          "output_type": "display_data",
          "data": {
            "image/png": "[encoded data removed]",
            "text/plain": "<Figure size 432x288 with 1 Axes>"
          },
          "metadata": {
            "needs_background": "light"
          }
        }
      ]
    },
    {
      "metadata": {},
      "cell_type": "markdown",
      "source": "It also outputs the children for each non-leaf node. This would be an array with the shape (number of non-leaf nodes, 2) as there would be two immediate children for any non-leaf node:"
    },
    {
      "metadata": {
        "trusted": true
      },
      "cell_type": "code",
      "source": "ward.children_",
      "execution_count": 19,
      "outputs": [
        {
          "output_type": "execute_result",
          "execution_count": 19,
          "data": {
            "text/plain": "array([[   0,    4],\n       [ 135,  140],\n       [ 750,  751],\n       ...,\n       [3189, 3192],\n       [3186, 3193],\n       [3194, 3195]])"
          },
          "metadata": {}
        }
      ]
    },
    {
      "metadata": {},
      "cell_type": "markdown",
      "source": "The child array containing two child elements for each non-leaf node"
    }
  ],
  "metadata": {
    "kernelspec": {
      "name": "python36",
      "display_name": "Python 3.6",
      "language": "python"
    },
    "language_info": {
      "mimetype": "text/x-python",
      "nbconvert_exporter": "python",
      "name": "python",
      "pygments_lexer": "ipython3",
      "version": "3.6.6",
      "file_extension": ".py",
      "codemirror_mode": {
        "version": 3,
        "name": "ipython"
      }
    }
  },
  "nbformat": 4,
  "nbformat_minor": 2
}