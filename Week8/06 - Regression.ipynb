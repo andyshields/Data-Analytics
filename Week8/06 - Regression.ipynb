{
  "cells": [
    {
      "metadata": {
        "collapsed": true
      },
      "cell_type": "markdown",
      "source": "# Implementing linear regression with Python \nLet's now go ahead and try to make a simple linear regression model and see what are the issues that we face and how can they be resolved to make the model more robust. \n\nWe will use the advertising data from the lab folder. \n\nThe following two methods implement linear regression in Python: \n* The ols method and the statsmodel.formula.api library \n* The scikit-learn package \n\nLet's implement a simple linear regression using the first method and then build upon a multiple-linear regression model. \n\nWe will then also look at how the second method is used to do the same."
    },
    {
      "metadata": {},
      "cell_type": "markdown",
      "source": "## Linear regression using the statsmodel library \n\nLet's first import the Advertising data, as shown: "
    },
    {
      "metadata": {
        "trusted": true
      },
      "cell_type": "code",
      "source": "import pandas as pd \n\nadvert=pd.read_csv('Advertising.csv') \nadvert.head() ",
      "execution_count": 1,
      "outputs": [
        {
          "output_type": "execute_result",
          "execution_count": 1,
          "data": {
            "text/html": "<div>\n<style scoped>\n    .dataframe tbody tr th:only-of-type {\n        vertical-align: middle;\n    }\n\n    .dataframe tbody tr th {\n        vertical-align: top;\n    }\n\n    .dataframe thead th {\n        text-align: right;\n    }\n</style>\n<table border=\"1\" class=\"dataframe\">\n  <thead>\n    <tr style=\"text-align: right;\">\n      <th></th>\n      <th>TV</th>\n      <th>Radio</th>\n      <th>Newspaper</th>\n      <th>Sales</th>\n    </tr>\n  </thead>\n  <tbody>\n    <tr>\n      <th>0</th>\n      <td>230.1</td>\n      <td>37.8</td>\n      <td>69.2</td>\n      <td>22.1</td>\n    </tr>\n    <tr>\n      <th>1</th>\n      <td>44.5</td>\n      <td>39.3</td>\n      <td>45.1</td>\n      <td>10.4</td>\n    </tr>\n    <tr>\n      <th>2</th>\n      <td>17.2</td>\n      <td>45.9</td>\n      <td>69.3</td>\n      <td>9.3</td>\n    </tr>\n    <tr>\n      <th>3</th>\n      <td>151.5</td>\n      <td>41.3</td>\n      <td>58.5</td>\n      <td>18.5</td>\n    </tr>\n    <tr>\n      <th>4</th>\n      <td>180.8</td>\n      <td>10.8</td>\n      <td>58.4</td>\n      <td>12.9</td>\n    </tr>\n  </tbody>\n</table>\n</div>",
            "text/plain": "      TV  Radio  Newspaper  Sales\n0  230.1   37.8       69.2   22.1\n1   44.5   39.3       45.1   10.4\n2   17.2   45.9       69.3    9.3\n3  151.5   41.3       58.5   18.5\n4  180.8   10.8       58.4   12.9"
          },
          "metadata": {}
        }
      ]
    },
    {
      "metadata": {},
      "cell_type": "markdown",
      "source": "This dataset contains data about the advertising budget spent on TV, Radio, and Newspapers, for a particular product and the resulting sales. We will expect a positive correlation between such advertising costs and sales. We already know that there is a good correlation between TV advertising costs and sales. \n\nLet's see whether it is present or not. If yes, how does the relationship look like and to do that we write the following code: "
    },
    {
      "metadata": {
        "trusted": true
      },
      "cell_type": "code",
      "source": "import statsmodels.formula.api as smf \nmodel1=smf.ols(formula='Sales~TV',data=advert).fit() \nmodel1.params",
      "execution_count": 2,
      "outputs": [
        {
          "output_type": "execute_result",
          "execution_count": 2,
          "data": {
            "text/plain": "Intercept    7.032594\nTV           0.047537\ndtype: float64"
          },
          "metadata": {}
        }
      ]
    },
    {
      "metadata": {},
      "cell_type": "markdown",
      "source": "In the notation that we have been using, a is the intercept and β is the slope. \n\nThus: \n$$\n\\alpha = 7.03 and \\beta = 0.047\n$$\nThe equation for the model will be: \n$$\nSales = 7.032+0.0047*TV\n$$"
    },
    {
      "metadata": {},
      "cell_type": "markdown",
      "source": "The equation implies that an increase of 100 units in advertising costs will increase the sale by four units. \nIf you remember, we learnt that the values of these parameters are estimates and there will be a p-value associated to these. If the p-values are very small, then it can be accepted that these parameters have a non-zero value and are statistically significant in the model. Let's have a look at the p-values for these parameters: "
    },
    {
      "metadata": {
        "trusted": true
      },
      "cell_type": "code",
      "source": "model1.pvalues ",
      "execution_count": 3,
      "outputs": [
        {
          "output_type": "execute_result",
          "execution_count": 3,
          "data": {
            "text/plain": "Intercept    1.406300e-35\nTV           1.467390e-42\ndtype: float64"
          },
          "metadata": {}
        }
      ]
    },
    {
      "metadata": {},
      "cell_type": "markdown",
      "source": "As it can be seen, the p-values are very small; hence, the parameters are significant. Let's also check another important indicator of the model efficacy and that is R2. As we saw earlier, there is a ready-made method for doing this. This can be done by typing the following code line:"
    },
    {
      "metadata": {
        "trusted": true
      },
      "cell_type": "code",
      "source": "model1.rsquared ",
      "execution_count": 4,
      "outputs": [
        {
          "output_type": "execute_result",
          "execution_count": 4,
          "data": {
            "text/plain": "0.611875050850071"
          },
          "metadata": {}
        }
      ]
    },
    {
      "metadata": {},
      "cell_type": "markdown",
      "source": "The value comes out to be 0.61. \nIf we want the entire important model parameters at one go, we can take a look at the model summary by writing this snippet: "
    },
    {
      "metadata": {
        "trusted": true
      },
      "cell_type": "code",
      "source": "model1.summary() ",
      "execution_count": 5,
      "outputs": [
        {
          "output_type": "execute_result",
          "execution_count": 5,
          "data": {
            "text/html": "<table class=\"simpletable\">\n<caption>OLS Regression Results</caption>\n<tr>\n  <th>Dep. Variable:</th>          <td>Sales</td>      <th>  R-squared:         </th> <td>   0.612</td>\n</tr>\n<tr>\n  <th>Model:</th>                   <td>OLS</td>       <th>  Adj. R-squared:    </th> <td>   0.610</td>\n</tr>\n<tr>\n  <th>Method:</th>             <td>Least Squares</td>  <th>  F-statistic:       </th> <td>   312.1</td>\n</tr>\n<tr>\n  <th>Date:</th>             <td>Thu, 21 Feb 2019</td> <th>  Prob (F-statistic):</th> <td>1.47e-42</td>\n</tr>\n<tr>\n  <th>Time:</th>                 <td>14:03:30</td>     <th>  Log-Likelihood:    </th> <td> -519.05</td>\n</tr>\n<tr>\n  <th>No. Observations:</th>      <td>   200</td>      <th>  AIC:               </th> <td>   1042.</td>\n</tr>\n<tr>\n  <th>Df Residuals:</th>          <td>   198</td>      <th>  BIC:               </th> <td>   1049.</td>\n</tr>\n<tr>\n  <th>Df Model:</th>              <td>     1</td>      <th>                     </th>     <td> </td>   \n</tr>\n<tr>\n  <th>Covariance Type:</th>      <td>nonrobust</td>    <th>                     </th>     <td> </td>   \n</tr>\n</table>\n<table class=\"simpletable\">\n<tr>\n      <td></td>         <th>coef</th>     <th>std err</th>      <th>t</th>      <th>P>|t|</th>  <th>[0.025</th>    <th>0.975]</th>  \n</tr>\n<tr>\n  <th>Intercept</th> <td>    7.0326</td> <td>    0.458</td> <td>   15.360</td> <td> 0.000</td> <td>    6.130</td> <td>    7.935</td>\n</tr>\n<tr>\n  <th>TV</th>        <td>    0.0475</td> <td>    0.003</td> <td>   17.668</td> <td> 0.000</td> <td>    0.042</td> <td>    0.053</td>\n</tr>\n</table>\n<table class=\"simpletable\">\n<tr>\n  <th>Omnibus:</th>       <td> 0.531</td> <th>  Durbin-Watson:     </th> <td>   1.935</td>\n</tr>\n<tr>\n  <th>Prob(Omnibus):</th> <td> 0.767</td> <th>  Jarque-Bera (JB):  </th> <td>   0.669</td>\n</tr>\n<tr>\n  <th>Skew:</th>          <td>-0.089</td> <th>  Prob(JB):          </th> <td>   0.716</td>\n</tr>\n<tr>\n  <th>Kurtosis:</th>      <td> 2.779</td> <th>  Cond. No.          </th> <td>    338.</td>\n</tr>\n</table><br/><br/>Warnings:<br/>[1] Standard Errors assume that the covariance matrix of the errors is correctly specified.",
            "text/plain": "<class 'statsmodels.iolib.summary.Summary'>\n\"\"\"\n                            OLS Regression Results                            \n==============================================================================\nDep. Variable:                  Sales   R-squared:                       0.612\nModel:                            OLS   Adj. R-squared:                  0.610\nMethod:                 Least Squares   F-statistic:                     312.1\nDate:                Thu, 21 Feb 2019   Prob (F-statistic):           1.47e-42\nTime:                        14:03:30   Log-Likelihood:                -519.05\nNo. Observations:                 200   AIC:                             1042.\nDf Residuals:                     198   BIC:                             1049.\nDf Model:                           1                                         \nCovariance Type:            nonrobust                                         \n==============================================================================\n                 coef    std err          t      P>|t|      [0.025      0.975]\n------------------------------------------------------------------------------\nIntercept      7.0326      0.458     15.360      0.000       6.130       7.935\nTV             0.0475      0.003     17.668      0.000       0.042       0.053\n==============================================================================\nOmnibus:                        0.531   Durbin-Watson:                   1.935\nProb(Omnibus):                  0.767   Jarque-Bera (JB):                0.669\nSkew:                          -0.089   Prob(JB):                        0.716\nKurtosis:                       2.779   Cond. No.                         338.\n==============================================================================\n\nWarnings:\n[1] Standard Errors assume that the covariance matrix of the errors is correctly specified.\n\"\"\""
          },
          "metadata": {}
        }
      ]
    },
    {
      "metadata": {},
      "cell_type": "markdown",
      "source": "As we can see, the F-statistic for this model is very high and the associated p-value is negligible, suggesting that the parameter estimates for this model were all significant and non-zero. "
    },
    {
      "metadata": {},
      "cell_type": "markdown",
      "source": "Let's now predict the values of sales based on the equation we just derived. This can be done using the following snippet: "
    },
    {
      "metadata": {
        "trusted": true
      },
      "cell_type": "code",
      "source": "sales_pred=model1.predict(pd.DataFrame(advert['TV'])) \nsales_pred ",
      "execution_count": 6,
      "outputs": [
        {
          "output_type": "execute_result",
          "execution_count": 6,
          "data": {
            "text/plain": "0      17.970775\n1       9.147974\n2       7.850224\n3      14.234395\n4      15.627218\n5       7.446162\n6       9.765950\n7      12.746498\n8       7.441409\n9      16.530414\n10     10.174765\n11     17.238710\n12      8.163966\n13     11.667416\n14     16.734822\n15     16.321253\n16     10.255578\n17     20.409404\n18     10.322129\n19     14.034741\n20     17.414596\n21     18.317792\n22      7.660077\n23     17.885209\n24      9.994126\n25     19.529976\n26     13.825579\n27     18.446141\n28     18.859710\n29     10.388680\n         ...    \n170     9.409426\n171    14.852371\n172     7.964312\n173    15.037764\n174    17.604742\n175    20.195489\n176    18.840695\n177    15.123330\n178    20.185982\n179    14.904661\n180    14.476831\n181    17.419349\n182     9.704153\n183    20.704131\n184    19.097393\n185    16.777605\n186    13.663955\n187    16.116846\n188    20.628073\n189     7.921529\n190     8.910291\n191    10.621610\n192     7.850224\n193    14.961705\n194    14.148829\n195     8.848493\n196    11.510545\n197    15.446579\n198    20.513985\n199    18.065848\nLength: 200, dtype: float64"
          },
          "metadata": {}
        }
      ]
    },
    {
      "metadata": {},
      "cell_type": "markdown",
      "source": "This equation basically calculates the predicted sales value for each row based on the model equation using TV costs. One can plot sales_pred against the TV advertising costs to find the line of best fit. Let's do that:"
    },
    {
      "metadata": {
        "trusted": true
      },
      "cell_type": "code",
      "source": "import matplotlib.pyplot as plt \n%matplotlib inline \nadvert.plot(kind='scatter', x='TV', y='Sales') \nplt.plot(pd.DataFrame(advert['TV']),sales_pred,c='red',linewidth=2) ",
      "execution_count": 9,
      "outputs": [
        {
          "output_type": "execute_result",
          "execution_count": 9,
          "data": {
            "text/plain": "[<matplotlib.lines.Line2D at 0x7fe38db130f0>]"
          },
          "metadata": {}
        },
        {
          "output_type": "display_data",
          "data": {
            "image/png": "[encoded data removed]",
            "text/plain": "<Figure size 432x288 with 1 Axes>"
          },
          "metadata": {
            "needs_background": "light"
          }
        }
      ]
    },
    {
      "metadata": {},
      "cell_type": "markdown",
      "source": "We get the following plot as the output. The red line is the line of best fit (obtained from the model). The blue dots represent the actual data present: "
    },
    {
      "metadata": {},
      "cell_type": "markdown",
      "source": "Now, let's calculate the RSE term for our prediction using the following code snippet: "
    },
    {
      "metadata": {
        "trusted": true
      },
      "cell_type": "code",
      "source": "import numpy as np\nadvert['sales_pred']=0.047537*advert['TV']+7.03 \nadvert['RSE']=(advert['Sales']-advert['sales_pred'])**2 \nRSEd=advert.sum()['RSE'] \nRSE=np.sqrt(RSEd/198) \nsalesmean=np.mean(advert['Sales']) \nerror=RSE/salesmean \nRSE,salesmean,error ",
      "execution_count": 10,
      "outputs": [
        {
          "output_type": "execute_result",
          "execution_count": 10,
          "data": {
            "text/plain": "(3.258657369247128, 14.022500000000003, 0.23238776033140504)"
          },
          "metadata": {}
        }
      ]
    },
    {
      "metadata": {},
      "cell_type": "markdown",
      "source": "The output consists of three numbers, first of which is RSE=3.25, second is salesmean (mean of actual sales) = 14.02 and error is their ratio, which is equal to 0.23. Thus, on an average this model will have 23%, even if the coefficients are correctly predicted. This is a significant amount of errors and we would like to bring it down by some means. Also, the R2 value of 0.61 can be improved upon. One thing we can try is to add more columns in the model, as predictors and see whether it improves the result or not. "
    },
    {
      "metadata": {},
      "cell_type": "markdown",
      "source": "## Multiple linear regression \nWhen linear regression involves more than one predictor variable, then it is called multiple linear regression. The nature of the model remains the same (linear), except that there might be separate slope (β) coefficients associated with each of the predictor variables. The model will be represented, as follows:\n$$ \ny model = \\alpha  + \\beta_1 X_1 + \\beta_2 X_2 + \\beta_3 X_3 ......+\\beta_n X_n\n$$\n\nEach βi will be estimated using the same least sum of squares method; hence, would have a p-value associated with the estimation. The smaller the p-value associated with a variable, the more the significance of that variable to the model. The variables with large p-values should be eliminated from the model as they aren't good predictors of the output variable. \n\nWhile the multiple regression gives us with the possibility of using more variables as predictors; hence, it increases the efficiency of the model. It also increases the complexity of the process of model building, as the selection of the variables to be kept and discarded in the model becomes tedious.\n\nWith this simple dataset of three predictor variables, there can be seven possible models. \n\nThey are as follows: \n* Model 1: Sales~TV \n* Model 2: Sales~Newspaper \n* Model 3: Sales~Radio \n* Model 4: Sales~TV+Radio \n* Model 5: Sales~TV+Newspaper \n* Model 6: Sales~Newspaper+Radio \n* Model 7: Sales~TV+Radio+Newspaper \n\nFor a model with p possible predictor variables, there can be 2p-1 possible models; hence, as the number of predictors increases, the selection becomes tedious. \n\nIt would have been a tedious task to choose from so many possible models. Thankfully, there are a few guidelines to filter some of these and then navigate towards the most efficient one. \nThe following are the guidelines: \n* Keep the variables with low p-values and eliminate the ones with high p-values \n* Inclusion of a variable to the model should ideally increase the value of R2 (although it is not a very reliable indicator of the same and looking at the adjusted R2 is preferred. The concept of adjusted R2 and why it is a better indicator than R2 will be explained later).\n\nBased on these guidelines, there are two kinds of approaches to select the predictor variables to go in the final model: \n\n* Forward selection: In this approach, we start with a null model without any predictor and then start adding predictor variables one by one. The variable whose addition results into a model with the lowest residual sum of squares will be added first to the model. If the p-value for the variable is small enough and the value of the adjusted R2 goes up; the predictor variable is included in the model. Otherwise, it is not included in the model. \n* Backward selection: In this approach, one starts with a model that has all the possible predictor variables in the model and discards some of them. If the p-value of a predictor variable is large and the value of the adjusted R2 goes up, the predictor variable is discarded from the model. Otherwise, it remains a part of the model. \n\nMany of the statistical programs, including the Python, give us an option to select from the two preceding approaches while implementing a linear regression. The statistical program then implements the linear regression using the selected approach. \n\nFor now, let us manually add a few variables and see how it changes the model parameters and efficacy, so that we can get a better glimpse of what goes on behind the curtain when these approaches are implemented by the statistical program. "
    },
    {
      "metadata": {},
      "cell_type": "markdown",
      "source": "We have already seen one model assuming a linear relationship between sales and TV advertising costs. We can ignore the other models consisting of single variables (that is newspaper and radio, as they have a small correlation compared to TV). Let us now try to add more variables to the model we already have and see how the parameters and efficacy change. \n\nLet us try adding the newspaper variable to the model using the following code snippet: "
    },
    {
      "metadata": {
        "trusted": true
      },
      "cell_type": "code",
      "source": "import statsmodels.formula.api as smf \nmodel2=smf.ols(formula='Sales~TV+Newspaper',data=advert).fit() \nmodel2.params",
      "execution_count": 11,
      "outputs": [
        {
          "output_type": "execute_result",
          "execution_count": 11,
          "data": {
            "text/plain": "Intercept    5.774948\nTV           0.046901\nNewspaper    0.044219\ndtype: float64"
          },
          "metadata": {}
        }
      ]
    },
    {
      "metadata": {},
      "cell_type": "markdown",
      "source": "The p-values for the coefficients are very small, suggesting that all the estimates are significant. The equation for this model will be: \n\n$$\nSales = 5.77 +0.046*TV+0.04*Newspaper\n$$\n\nThe values of $R^2$ and adjusted $R^2$ are 0.646 and 0.642, which is just a minor improvement from the value obtained in the earlier model. \nThe values can be predicted using the following snippet: "
    },
    {
      "metadata": {
        "trusted": true
      },
      "cell_type": "code",
      "source": "sales_pred=model2.predict(advert[['TV','Newspaper']]) \nsales_pred",
      "execution_count": 12,
      "outputs": [
        {
          "output_type": "execute_result",
          "execution_count": 12,
          "data": {
            "text/plain": "0      19.626901\n1       9.856348\n2       9.646055\n3      15.467318\n4      16.837102\n5       9.499445\n6       9.510924\n7      11.925419\n8       6.222518\n9      16.083262\n10      9.945228\n11     16.021516\n12      9.805257\n13     10.666196\n14     17.381579\n15     17.278653\n16     13.995865\n17     21.440393\n18      9.829727\n19     13.528088\n20     18.379490\n21     17.948453\n22      8.587327\n23     17.641044\n24      9.506109\n25     18.967556\n26     13.034296\n27     18.048554\n28     18.456595\n29     10.890326\n         ...    \n170     8.933646\n171    15.586198\n172     7.445942\n173    14.239121\n174    16.785052\n175    20.610266\n176    18.322864\n177    15.314058\n178    19.800514\n179    14.320051\n180    13.486699\n181    17.234475\n182     9.724113\n183    22.438692\n184    19.005059\n185    16.256398\n186    13.493904\n187    15.542563\n188    19.352307\n189     7.686735\n190     7.884019\n191     9.581306\n192     7.978983\n193    13.757260\n194    13.061376\n195     8.176802\n196    10.551220\n197    14.359467\n198    22.003458\n199    17.045429\nLength: 200, dtype: float64"
          },
          "metadata": {}
        }
      ]
    },
    {
      "metadata": {},
      "cell_type": "markdown",
      "source": "To calculate the RSE, we modify the snippet a little"
    },
    {
      "metadata": {
        "trusted": true
      },
      "cell_type": "code",
      "source": "import numpy as np \nadvert['sales_pred']=5.77 + 0.046*advert['TV'] + 0.04*advert['Newspaper'] \nadvert['RSE']=(advert['Sales']-advert['sales_pred'])**2 \nRSEd=advert.sum()['RSE'] \nRSE=np.sqrt(RSEd/197) \nsalesmean=np.mean(advert['Sales']) \nerror=RSE/salesmean \nRSE,salesmean,error ",
      "execution_count": 13,
      "outputs": [
        {
          "output_type": "execute_result",
          "execution_count": 13,
          "data": {
            "text/plain": "(3.1346969895743846, 14.022500000000003, 0.22354765481008265)"
          },
          "metadata": {}
        }
      ]
    },
    {
      "metadata": {},
      "cell_type": "markdown",
      "source": "The value of RSE comes out to be 3.12 (22%), not very different from the model with only TV. The number 197 comes from the (n-p-1) term in the formula for RSE, where n=200, p=2 for the current model. The following table is the model summary: "
    },
    {
      "metadata": {
        "trusted": true
      },
      "cell_type": "code",
      "source": "model2.summary() ",
      "execution_count": 14,
      "outputs": [
        {
          "output_type": "execute_result",
          "execution_count": 14,
          "data": {
            "text/html": "<table class=\"simpletable\">\n<caption>OLS Regression Results</caption>\n<tr>\n  <th>Dep. Variable:</th>          <td>Sales</td>      <th>  R-squared:         </th> <td>   0.646</td>\n</tr>\n<tr>\n  <th>Model:</th>                   <td>OLS</td>       <th>  Adj. R-squared:    </th> <td>   0.642</td>\n</tr>\n<tr>\n  <th>Method:</th>             <td>Least Squares</td>  <th>  F-statistic:       </th> <td>   179.6</td>\n</tr>\n<tr>\n  <th>Date:</th>             <td>Thu, 21 Feb 2019</td> <th>  Prob (F-statistic):</th> <td>3.95e-45</td>\n</tr>\n<tr>\n  <th>Time:</th>                 <td>14:05:21</td>     <th>  Log-Likelihood:    </th> <td> -509.89</td>\n</tr>\n<tr>\n  <th>No. Observations:</th>      <td>   200</td>      <th>  AIC:               </th> <td>   1026.</td>\n</tr>\n<tr>\n  <th>Df Residuals:</th>          <td>   197</td>      <th>  BIC:               </th> <td>   1036.</td>\n</tr>\n<tr>\n  <th>Df Model:</th>              <td>     2</td>      <th>                     </th>     <td> </td>   \n</tr>\n<tr>\n  <th>Covariance Type:</th>      <td>nonrobust</td>    <th>                     </th>     <td> </td>   \n</tr>\n</table>\n<table class=\"simpletable\">\n<tr>\n      <td></td>         <th>coef</th>     <th>std err</th>      <th>t</th>      <th>P>|t|</th>  <th>[0.025</th>    <th>0.975]</th>  \n</tr>\n<tr>\n  <th>Intercept</th> <td>    5.7749</td> <td>    0.525</td> <td>   10.993</td> <td> 0.000</td> <td>    4.739</td> <td>    6.811</td>\n</tr>\n<tr>\n  <th>TV</th>        <td>    0.0469</td> <td>    0.003</td> <td>   18.173</td> <td> 0.000</td> <td>    0.042</td> <td>    0.052</td>\n</tr>\n<tr>\n  <th>Newspaper</th> <td>    0.0442</td> <td>    0.010</td> <td>    4.346</td> <td> 0.000</td> <td>    0.024</td> <td>    0.064</td>\n</tr>\n</table>\n<table class=\"simpletable\">\n<tr>\n  <th>Omnibus:</th>       <td> 0.658</td> <th>  Durbin-Watson:     </th> <td>   1.969</td>\n</tr>\n<tr>\n  <th>Prob(Omnibus):</th> <td> 0.720</td> <th>  Jarque-Bera (JB):  </th> <td>   0.415</td>\n</tr>\n<tr>\n  <th>Skew:</th>          <td>-0.093</td> <th>  Prob(JB):          </th> <td>   0.813</td>\n</tr>\n<tr>\n  <th>Kurtosis:</th>      <td> 3.122</td> <th>  Cond. No.          </th> <td>    410.</td>\n</tr>\n</table><br/><br/>Warnings:<br/>[1] Standard Errors assume that the covariance matrix of the errors is correctly specified.",
            "text/plain": "<class 'statsmodels.iolib.summary.Summary'>\n\"\"\"\n                            OLS Regression Results                            \n==============================================================================\nDep. Variable:                  Sales   R-squared:                       0.646\nModel:                            OLS   Adj. R-squared:                  0.642\nMethod:                 Least Squares   F-statistic:                     179.6\nDate:                Thu, 21 Feb 2019   Prob (F-statistic):           3.95e-45\nTime:                        14:05:21   Log-Likelihood:                -509.89\nNo. Observations:                 200   AIC:                             1026.\nDf Residuals:                     197   BIC:                             1036.\nDf Model:                           2                                         \nCovariance Type:            nonrobust                                         \n==============================================================================\n                 coef    std err          t      P>|t|      [0.025      0.975]\n------------------------------------------------------------------------------\nIntercept      5.7749      0.525     10.993      0.000       4.739       6.811\nTV             0.0469      0.003     18.173      0.000       0.042       0.052\nNewspaper      0.0442      0.010      4.346      0.000       0.024       0.064\n==============================================================================\nOmnibus:                        0.658   Durbin-Watson:                   1.969\nProb(Omnibus):                  0.720   Jarque-Bera (JB):                0.415\nSkew:                          -0.093   Prob(JB):                        0.813\nKurtosis:                       3.122   Cond. No.                         410.\n==============================================================================\n\nWarnings:\n[1] Standard Errors assume that the covariance matrix of the errors is correctly specified.\n\"\"\""
          },
          "metadata": {}
        }
      ]
    },
    {
      "metadata": {},
      "cell_type": "markdown",
      "source": "Although as the F-statistic decreases, the associated p-value also decreases. But, it is just a marginal improvement to the model, as we can see in the adj. R2 value. So, adding newspaper didn't improve the model significantly. \n\nLet's try adding radio to the model instead of the newspaper. Radio had the second best correlation with the Sales variable in the correlation matrix we created earlier in the chapter. Thus, one expects some significant improvement in the model upon its addition to the model. Let's see if that happens or not: "
    },
    {
      "metadata": {
        "trusted": true
      },
      "cell_type": "code",
      "source": "import statsmodels.formula.api as smf \nmodel3=smf.ols(formula='Sales~TV+Radio',data=advert).fit() \nmodel3.params ",
      "execution_count": 15,
      "outputs": [
        {
          "output_type": "execute_result",
          "execution_count": 15,
          "data": {
            "text/plain": "Intercept    2.921100\nTV           0.045755\nRadio        0.187994\ndtype: float64"
          },
          "metadata": {}
        }
      ]
    },
    {
      "metadata": {},
      "cell_type": "markdown",
      "source": "The model can be represented as the following: \n$$ \nSales = 2.92 + 0.045 * TV + 0.18 * Radio\n$$\nThe values can be predicted based on the preceding model using the following snippet: "
    },
    {
      "metadata": {
        "trusted": true
      },
      "cell_type": "code",
      "source": "sales_pred=model3.predict(advert[['TV','Radio']]) \nsales_pred",
      "execution_count": 16,
      "outputs": [
        {
          "output_type": "execute_result",
          "execution_count": 16,
          "data": {
            "text/plain": "0      20.555465\n1      12.345362\n2      12.337018\n3      17.617116\n4      13.223908\n5      12.512084\n6      11.718212\n7      12.105516\n8       3.709379\n9      12.551697\n10      7.035860\n11     17.256520\n12     10.608662\n13      8.810951\n14     18.444668\n15     20.828915\n16     12.903865\n17     23.241076\n18      9.941215\n19     14.153846\n20     18.121392\n21     14.742064\n22      6.514172\n23     16.544027\n24      8.140352\n25     15.608021\n26     14.967694\n27     17.046335\n28     19.399541\n29      9.159297\n         ...    \n170     7.389574\n171    14.376846\n172     7.596578\n173    11.960970\n174    13.736151\n175    24.783526\n176    19.964022\n177    12.174924\n178    16.013844\n179    12.378040\n180    10.575089\n181    13.933696\n182     6.564088\n183    24.163936\n184    18.537949\n185    20.779377\n186     9.698684\n187    17.060279\n188    18.620097\n189     6.051445\n190    12.454978\n191     8.405926\n192     4.478859\n193    18.448761\n194    16.463190\n195     5.364512\n196     8.152375\n197    12.768048\n198    23.792923\n199    15.157543\nLength: 200, dtype: float64"
          },
          "metadata": {}
        }
      ]
    },
    {
      "metadata": {},
      "cell_type": "markdown",
      "source": "The model summary looks like: "
    },
    {
      "metadata": {
        "trusted": true,
        "scrolled": true
      },
      "cell_type": "code",
      "source": "model3.summary() ",
      "execution_count": 20,
      "outputs": [
        {
          "output_type": "execute_result",
          "execution_count": 20,
          "data": {
            "text/html": "<table class=\"simpletable\">\n<caption>OLS Regression Results</caption>\n<tr>\n  <th>Dep. Variable:</th>          <td>Sales</td>      <th>  R-squared:         </th> <td>   0.897</td>\n</tr>\n<tr>\n  <th>Model:</th>                   <td>OLS</td>       <th>  Adj. R-squared:    </th> <td>   0.896</td>\n</tr>\n<tr>\n  <th>Method:</th>             <td>Least Squares</td>  <th>  F-statistic:       </th> <td>   859.6</td>\n</tr>\n<tr>\n  <th>Date:</th>             <td>Thu, 21 Feb 2019</td> <th>  Prob (F-statistic):</th> <td>4.83e-98</td>\n</tr>\n<tr>\n  <th>Time:</th>                 <td>14:08:45</td>     <th>  Log-Likelihood:    </th> <td> -386.20</td>\n</tr>\n<tr>\n  <th>No. Observations:</th>      <td>   200</td>      <th>  AIC:               </th> <td>   778.4</td>\n</tr>\n<tr>\n  <th>Df Residuals:</th>          <td>   197</td>      <th>  BIC:               </th> <td>   788.3</td>\n</tr>\n<tr>\n  <th>Df Model:</th>              <td>     2</td>      <th>                     </th>     <td> </td>   \n</tr>\n<tr>\n  <th>Covariance Type:</th>      <td>nonrobust</td>    <th>                     </th>     <td> </td>   \n</tr>\n</table>\n<table class=\"simpletable\">\n<tr>\n      <td></td>         <th>coef</th>     <th>std err</th>      <th>t</th>      <th>P>|t|</th>  <th>[0.025</th>    <th>0.975]</th>  \n</tr>\n<tr>\n  <th>Intercept</th> <td>    2.9211</td> <td>    0.294</td> <td>    9.919</td> <td> 0.000</td> <td>    2.340</td> <td>    3.502</td>\n</tr>\n<tr>\n  <th>TV</th>        <td>    0.0458</td> <td>    0.001</td> <td>   32.909</td> <td> 0.000</td> <td>    0.043</td> <td>    0.048</td>\n</tr>\n<tr>\n  <th>Radio</th>     <td>    0.1880</td> <td>    0.008</td> <td>   23.382</td> <td> 0.000</td> <td>    0.172</td> <td>    0.204</td>\n</tr>\n</table>\n<table class=\"simpletable\">\n<tr>\n  <th>Omnibus:</th>       <td>60.022</td> <th>  Durbin-Watson:     </th> <td>   2.081</td>\n</tr>\n<tr>\n  <th>Prob(Omnibus):</th> <td> 0.000</td> <th>  Jarque-Bera (JB):  </th> <td> 148.679</td>\n</tr>\n<tr>\n  <th>Skew:</th>          <td>-1.323</td> <th>  Prob(JB):          </th> <td>5.19e-33</td>\n</tr>\n<tr>\n  <th>Kurtosis:</th>      <td> 6.292</td> <th>  Cond. No.          </th> <td>    425.</td>\n</tr>\n</table><br/><br/>Warnings:<br/>[1] Standard Errors assume that the covariance matrix of the errors is correctly specified.",
            "text/plain": "<class 'statsmodels.iolib.summary.Summary'>\n\"\"\"\n                            OLS Regression Results                            \n==============================================================================\nDep. Variable:                  Sales   R-squared:                       0.897\nModel:                            OLS   Adj. R-squared:                  0.896\nMethod:                 Least Squares   F-statistic:                     859.6\nDate:                Thu, 21 Feb 2019   Prob (F-statistic):           4.83e-98\nTime:                        14:08:45   Log-Likelihood:                -386.20\nNo. Observations:                 200   AIC:                             778.4\nDf Residuals:                     197   BIC:                             788.3\nDf Model:                           2                                         \nCovariance Type:            nonrobust                                         \n==============================================================================\n                 coef    std err          t      P>|t|      [0.025      0.975]\n------------------------------------------------------------------------------\nIntercept      2.9211      0.294      9.919      0.000       2.340       3.502\nTV             0.0458      0.001     32.909      0.000       0.043       0.048\nRadio          0.1880      0.008     23.382      0.000       0.172       0.204\n==============================================================================\nOmnibus:                       60.022   Durbin-Watson:                   2.081\nProb(Omnibus):                  0.000   Jarque-Bera (JB):              148.679\nSkew:                          -1.323   Prob(JB):                     5.19e-33\nKurtosis:                       6.292   Cond. No.                         425.\n==============================================================================\n\nWarnings:\n[1] Standard Errors assume that the covariance matrix of the errors is correctly specified.\n\"\"\""
          },
          "metadata": {}
        }
      ]
    },
    {
      "metadata": {
        "trusted": true
      },
      "cell_type": "markdown",
      "source": "One thing to observe here is that the R2 value has improved considerably due to the addition of radio to the model. Also, the F-statistic has increased significantly from the last model indicating a very efficient model. \n\nThe RSE can be calculated using the same method described previously. The value for this model comes out to be 1.71 (around 12%),which is much better than the 23% and 22% in the previous model. \n\nThus, we can conclude that radio is a great addition to the model and TV and radio advertising costs have been able to describe the sales very well and this model itself is a very efficient model. But, can we improve it a bit further by combining all three predictor variables? \n\nThe last thing that we should try is, all the predictor variables together by using the following code: The estimates of the coefficients and the associated p-values for this model are shown: "
    },
    {
      "metadata": {
        "trusted": true
      },
      "cell_type": "code",
      "source": "import statsmodels.formula.api as smf \nmodel4=smf.ols(formula='Sales~TV+Radio+Newspaper',data=advert).fit() \nmodel4.params",
      "execution_count": 18,
      "outputs": [
        {
          "output_type": "execute_result",
          "execution_count": 18,
          "data": {
            "text/plain": "Intercept    2.938889\nTV           0.045765\nRadio        0.188530\nNewspaper   -0.001037\ndtype: float64"
          },
          "metadata": {}
        }
      ]
    },
    {
      "metadata": {},
      "cell_type": "markdown",
      "source": "The p-values for the coefficients are very small, suggesting that all the estimates are significant. The equation for this model will be: \n$$\nSales = 2.93 + 0.045 * TV + 0.18 * Radio - 0.01 * Newpaper\n$$\n \nThe values of sales can be predicted using the following snippet: "
    },
    {
      "metadata": {
        "trusted": true
      },
      "cell_type": "code",
      "source": "sales_pred=model4.predict(advert[['TV','Radio','Newspaper']]) \nsales_pred",
      "execution_count": 19,
      "outputs": [
        {
          "output_type": "execute_result",
          "execution_count": 19,
          "data": {
            "text/plain": "0      20.523974\n1      12.337855\n2      12.307671\n3      17.597830\n4      13.188672\n5      12.478348\n6      11.729760\n7      12.122953\n8       3.727341\n9      12.550849\n10      7.032299\n11     17.285129\n12     10.577121\n13      8.826300\n14     18.434366\n15     20.819300\n16     12.823657\n17     23.224957\n18      9.951682\n19     14.166073\n20     18.100767\n21     14.740538\n22      6.489150\n23     16.545933\n24      8.146519\n25     15.610039\n26     14.989514\n27     17.051673\n28     19.410538\n29      9.144024\n         ...    \n170     7.394980\n171    14.358274\n172     7.607692\n173    11.970939\n174    13.744357\n175    24.786870\n176    19.979373\n177    12.162046\n178    16.010997\n179    12.384555\n180    10.587200\n181    13.928099\n182     6.554670\n183    24.133100\n184    18.538521\n185    20.803011\n186     9.691373\n187    17.076442\n188    18.644306\n189     6.051624\n190    12.489159\n191     8.424019\n192     4.466230\n193    18.486958\n194    16.495300\n195     5.370342\n196     8.165312\n197    12.785921\n198    23.767321\n199    15.173196\nLength: 200, dtype: float64"
          },
          "metadata": {}
        }
      ]
    },
    {
      "metadata": {},
      "cell_type": "markdown",
      "source": "The summary of the model is shown in the following table: "
    },
    {
      "metadata": {
        "trusted": true
      },
      "cell_type": "code",
      "source": "model4.summary() ",
      "execution_count": 21,
      "outputs": [
        {
          "output_type": "execute_result",
          "execution_count": 21,
          "data": {
            "text/html": "<table class=\"simpletable\">\n<caption>OLS Regression Results</caption>\n<tr>\n  <th>Dep. Variable:</th>          <td>Sales</td>      <th>  R-squared:         </th> <td>   0.897</td>\n</tr>\n<tr>\n  <th>Model:</th>                   <td>OLS</td>       <th>  Adj. R-squared:    </th> <td>   0.896</td>\n</tr>\n<tr>\n  <th>Method:</th>             <td>Least Squares</td>  <th>  F-statistic:       </th> <td>   570.3</td>\n</tr>\n<tr>\n  <th>Date:</th>             <td>Thu, 21 Feb 2019</td> <th>  Prob (F-statistic):</th> <td>1.58e-96</td>\n</tr>\n<tr>\n  <th>Time:</th>                 <td>14:08:55</td>     <th>  Log-Likelihood:    </th> <td> -386.18</td>\n</tr>\n<tr>\n  <th>No. Observations:</th>      <td>   200</td>      <th>  AIC:               </th> <td>   780.4</td>\n</tr>\n<tr>\n  <th>Df Residuals:</th>          <td>   196</td>      <th>  BIC:               </th> <td>   793.6</td>\n</tr>\n<tr>\n  <th>Df Model:</th>              <td>     3</td>      <th>                     </th>     <td> </td>   \n</tr>\n<tr>\n  <th>Covariance Type:</th>      <td>nonrobust</td>    <th>                     </th>     <td> </td>   \n</tr>\n</table>\n<table class=\"simpletable\">\n<tr>\n      <td></td>         <th>coef</th>     <th>std err</th>      <th>t</th>      <th>P>|t|</th>  <th>[0.025</th>    <th>0.975]</th>  \n</tr>\n<tr>\n  <th>Intercept</th> <td>    2.9389</td> <td>    0.312</td> <td>    9.422</td> <td> 0.000</td> <td>    2.324</td> <td>    3.554</td>\n</tr>\n<tr>\n  <th>TV</th>        <td>    0.0458</td> <td>    0.001</td> <td>   32.809</td> <td> 0.000</td> <td>    0.043</td> <td>    0.049</td>\n</tr>\n<tr>\n  <th>Radio</th>     <td>    0.1885</td> <td>    0.009</td> <td>   21.893</td> <td> 0.000</td> <td>    0.172</td> <td>    0.206</td>\n</tr>\n<tr>\n  <th>Newspaper</th> <td>   -0.0010</td> <td>    0.006</td> <td>   -0.177</td> <td> 0.860</td> <td>   -0.013</td> <td>    0.011</td>\n</tr>\n</table>\n<table class=\"simpletable\">\n<tr>\n  <th>Omnibus:</th>       <td>60.414</td> <th>  Durbin-Watson:     </th> <td>   2.084</td>\n</tr>\n<tr>\n  <th>Prob(Omnibus):</th> <td> 0.000</td> <th>  Jarque-Bera (JB):  </th> <td> 151.241</td>\n</tr>\n<tr>\n  <th>Skew:</th>          <td>-1.327</td> <th>  Prob(JB):          </th> <td>1.44e-33</td>\n</tr>\n<tr>\n  <th>Kurtosis:</th>      <td> 6.332</td> <th>  Cond. No.          </th> <td>    454.</td>\n</tr>\n</table><br/><br/>Warnings:<br/>[1] Standard Errors assume that the covariance matrix of the errors is correctly specified.",
            "text/plain": "<class 'statsmodels.iolib.summary.Summary'>\n\"\"\"\n                            OLS Regression Results                            \n==============================================================================\nDep. Variable:                  Sales   R-squared:                       0.897\nModel:                            OLS   Adj. R-squared:                  0.896\nMethod:                 Least Squares   F-statistic:                     570.3\nDate:                Thu, 21 Feb 2019   Prob (F-statistic):           1.58e-96\nTime:                        14:08:55   Log-Likelihood:                -386.18\nNo. Observations:                 200   AIC:                             780.4\nDf Residuals:                     196   BIC:                             793.6\nDf Model:                           3                                         \nCovariance Type:            nonrobust                                         \n==============================================================================\n                 coef    std err          t      P>|t|      [0.025      0.975]\n------------------------------------------------------------------------------\nIntercept      2.9389      0.312      9.422      0.000       2.324       3.554\nTV             0.0458      0.001     32.809      0.000       0.043       0.049\nRadio          0.1885      0.009     21.893      0.000       0.172       0.206\nNewspaper     -0.0010      0.006     -0.177      0.860      -0.013       0.011\n==============================================================================\nOmnibus:                       60.414   Durbin-Watson:                   2.084\nProb(Omnibus):                  0.000   Jarque-Bera (JB):              151.241\nSkew:                          -1.327   Prob(JB):                     1.44e-33\nKurtosis:                       6.332   Cond. No.                         454.\n==============================================================================\n\nWarnings:\n[1] Standard Errors assume that the covariance matrix of the errors is correctly specified.\n\"\"\""
          },
          "metadata": {}
        }
      ]
    },
    {
      "metadata": {},
      "cell_type": "markdown",
      "source": "The most striking feature of this model is that the estimate of the coefficients is very similar to that in the previous model. The intercept, coefficient for TV, and the coefficient for Radio are more or less the same. The values of R2 and adj-R2 are also similar to the previous model. \n\nThe value of RSE can be calculated in a similar way, as before. The value comes out to 2.57 (18%), which is more than the previous model. \n\nOther things to note about this model are the following: \n\n* There is a small negative coefficient for the newspaper. When we considered only TV and newspaper in the model, the coefficient of the newspaper was significantly positive. Something affected the coefficient of the newspaper when it became a part of the model in presence of TV and radio. \n* For this model, the F-statistic has decreased considerably to 570.3 from 859.6 in the previous model. This suggests that the partial benefit of adding newspaper to the model containing TV and radio is negative. \n* The value of RSE increases on addition of newspaper to the model. \n\nAll these point in the direction that the model actually became a little less efficient on addition of newspaper to the previous model. What is the reason? Multi-collinearity is the reason for the sub-optimal performance of the model when newspaper was added to the final model. Multi-collinearity alludes to the correlation between the predictor variables of the model. Go back to the correlation matrix that we created for this dataset and you will find that there is a significant correlation of 0.35 between radio and newspaper. This means that the expense on Newspaper is related to that on the Radio. This relationship between the predictor variable increases the variability of the co-efficient estimates of the related predictor variables"
    },
    {
      "metadata": {},
      "cell_type": "markdown",
      "source": "# Model validation \nAny predictive model needs to be validated to see how it is performing on different sets of data, whether the accuracy of the model is constant over all the sources of similar data or not. This checks the problem of over-fitting, wherein the model fits very well on one set of data but doesn't fit that well on another dataset. One common method is to validate a model traintest split of the dataset. Another method is k-fold cross validation, about which we will learn more in the later chapter. \n\n## Training and testing data split \nIdeally, this step should be done right at the onset of the modelling process so that there are no sampling biases in the model; in other words, the model should perform well even for a dataset that has the same predictor variables, but their means and variances are very different from what the model has been built upon. This can happen because the dataset on which the model is built (training) and the one on which it is applied (testing) can come from different sources. \n\nA more robust way to do this is a process called the k-fold cross validation.\n\nLet's see how we can split the available dataset in the training and testing dataset and apply the model to the testing dataset to get other results: "
    },
    {
      "metadata": {
        "trusted": true
      },
      "cell_type": "code",
      "source": "import numpy as np \na=np.random.randn(len(advert)) \ncheck=a<0.8 \ntraining=advert[check] \ntesting=advert[~check] ",
      "execution_count": 23,
      "outputs": []
    },
    {
      "metadata": {},
      "cell_type": "markdown",
      "source": "NOTE: \nThe above sampling technique is naïve and doesn’t consider sampling etc. You might remember from previous labs that Scikitlearn has a very helpful function train_test_split which automates the process of selecting a training and testing set.\n\nhttp://scikit-learn.org/stable/modules/generated/sklearn.model_selection.train_test_split.html   \n \nThe ratio of split between training and testing datasets is 80:20; in other words, 160 rows of the advert dataset will be in training and 40 rows in testing. \nLet's create a model on training the data and test the model performance on the testing data. Let us create the only model that works best (we have found it already), the one with TV and radio variables, as predictor variables: "
    },
    {
      "metadata": {
        "trusted": true
      },
      "cell_type": "code",
      "source": "import statsmodels.formula.api as smf \nmodel5=smf.ols(formula='Sales~TV+Radio',data=training).fit() \nmodel5.summary() ",
      "execution_count": 24,
      "outputs": [
        {
          "output_type": "execute_result",
          "execution_count": 24,
          "data": {
            "text/html": "<table class=\"simpletable\">\n<caption>OLS Regression Results</caption>\n<tr>\n  <th>Dep. Variable:</th>          <td>Sales</td>      <th>  R-squared:         </th> <td>   0.901</td>\n</tr>\n<tr>\n  <th>Model:</th>                   <td>OLS</td>       <th>  Adj. R-squared:    </th> <td>   0.900</td>\n</tr>\n<tr>\n  <th>Method:</th>             <td>Least Squares</td>  <th>  F-statistic:       </th> <td>   684.9</td>\n</tr>\n<tr>\n  <th>Date:</th>             <td>Thu, 21 Feb 2019</td> <th>  Prob (F-statistic):</th> <td>3.75e-76</td>\n</tr>\n<tr>\n  <th>Time:</th>                 <td>14:12:45</td>     <th>  Log-Likelihood:    </th> <td> -295.00</td>\n</tr>\n<tr>\n  <th>No. Observations:</th>      <td>   153</td>      <th>  AIC:               </th> <td>   596.0</td>\n</tr>\n<tr>\n  <th>Df Residuals:</th>          <td>   150</td>      <th>  BIC:               </th> <td>   605.1</td>\n</tr>\n<tr>\n  <th>Df Model:</th>              <td>     2</td>      <th>                     </th>     <td> </td>   \n</tr>\n<tr>\n  <th>Covariance Type:</th>      <td>nonrobust</td>    <th>                     </th>     <td> </td>   \n</tr>\n</table>\n<table class=\"simpletable\">\n<tr>\n      <td></td>         <th>coef</th>     <th>std err</th>      <th>t</th>      <th>P>|t|</th>  <th>[0.025</th>    <th>0.975]</th>  \n</tr>\n<tr>\n  <th>Intercept</th> <td>    2.9233</td> <td>    0.327</td> <td>    8.928</td> <td> 0.000</td> <td>    2.276</td> <td>    3.570</td>\n</tr>\n<tr>\n  <th>TV</th>        <td>    0.0444</td> <td>    0.002</td> <td>   28.391</td> <td> 0.000</td> <td>    0.041</td> <td>    0.048</td>\n</tr>\n<tr>\n  <th>Radio</th>     <td>    0.1977</td> <td>    0.009</td> <td>   20.919</td> <td> 0.000</td> <td>    0.179</td> <td>    0.216</td>\n</tr>\n</table>\n<table class=\"simpletable\">\n<tr>\n  <th>Omnibus:</th>       <td>60.936</td> <th>  Durbin-Watson:     </th> <td>   2.179</td>\n</tr>\n<tr>\n  <th>Prob(Omnibus):</th> <td> 0.000</td> <th>  Jarque-Bera (JB):  </th> <td> 216.604</td>\n</tr>\n<tr>\n  <th>Skew:</th>          <td>-1.496</td> <th>  Prob(JB):          </th> <td>9.23e-48</td>\n</tr>\n<tr>\n  <th>Kurtosis:</th>      <td> 8.003</td> <th>  Cond. No.          </th> <td>    416.</td>\n</tr>\n</table><br/><br/>Warnings:<br/>[1] Standard Errors assume that the covariance matrix of the errors is correctly specified.",
            "text/plain": "<class 'statsmodels.iolib.summary.Summary'>\n\"\"\"\n                            OLS Regression Results                            \n==============================================================================\nDep. Variable:                  Sales   R-squared:                       0.901\nModel:                            OLS   Adj. R-squared:                  0.900\nMethod:                 Least Squares   F-statistic:                     684.9\nDate:                Thu, 21 Feb 2019   Prob (F-statistic):           3.75e-76\nTime:                        14:12:45   Log-Likelihood:                -295.00\nNo. Observations:                 153   AIC:                             596.0\nDf Residuals:                     150   BIC:                             605.1\nDf Model:                           2                                         \nCovariance Type:            nonrobust                                         \n==============================================================================\n                 coef    std err          t      P>|t|      [0.025      0.975]\n------------------------------------------------------------------------------\nIntercept      2.9233      0.327      8.928      0.000       2.276       3.570\nTV             0.0444      0.002     28.391      0.000       0.041       0.048\nRadio          0.1977      0.009     20.919      0.000       0.179       0.216\n==============================================================================\nOmnibus:                       60.936   Durbin-Watson:                   2.179\nProb(Omnibus):                  0.000   Jarque-Bera (JB):              216.604\nSkew:                          -1.496   Prob(JB):                     9.23e-48\nKurtosis:                       8.003   Cond. No.                         416.\n==============================================================================\n\nWarnings:\n[1] Standard Errors assume that the covariance matrix of the errors is correctly specified.\n\"\"\""
          },
          "metadata": {}
        }
      ]
    },
    {
      "metadata": {},
      "cell_type": "markdown",
      "source": "Most of the model parameters, such as intercept, coefficient estimates, and R2 are very similar. The difference in F-statistics can be attributed to a smaller dataset. The smaller the dataset, the larger the value of SSD and the smaller the value of the (n-p-1) term in F-statistic formula; both contribute towards the decrease in the F-statistic value. \n\nThe model can be written, as follows: \n$$\nSales ~ 2.86 + 0.04 * TV + 0.17 * Radio\n$$\nLet us now predict the sales values for the testing dataset: "
    },
    {
      "metadata": {
        "trusted": true
      },
      "cell_type": "code",
      "source": "sales_pred=model5.predict(training[['TV','Radio']]) \nsales_pred",
      "execution_count": 25,
      "outputs": [
        {
          "output_type": "execute_result",
          "execution_count": 25,
          "data": {
            "text/plain": "0      20.621982\n3      17.820886\n4      13.093285\n6      11.963060\n7      12.139905\n8       3.720667\n9      12.316553\n10      7.007473\n11     17.209400\n12     10.920112\n13      8.758759\n14     18.497819\n18     10.051361\n20     18.105303\n22      6.653290\n23     16.410154\n24      8.182928\n25     15.298680\n27     16.895014\n29      9.223949\n30     21.534744\n31     11.380559\n32      7.539485\n33     18.680644\n34      7.453054\n35     16.652745\n36     23.443567\n37     16.009182\n38     10.117174\n39     20.508887\n         ...    \n164    11.037876\n165    14.016798\n166    11.152151\n167    13.141645\n168    17.161430\n169    17.653346\n170     7.438613\n172     7.768030\n174    13.479067\n175    24.896220\n176    19.932759\n177    12.029128\n178    15.674725\n180    10.396720\n181    13.701139\n182     6.547742\n183    24.205331\n184    18.413249\n185    20.949700\n189     6.146471\n190    12.804002\n191     8.413692\n192     4.498246\n193    18.639214\n194    16.614029\n195     5.352420\n196     8.078327\n197    12.627867\n198    23.829873\n199    14.938157\nLength: 153, dtype: float64"
          },
          "metadata": {}
        }
      ]
    },
    {
      "metadata": {},
      "cell_type": "markdown",
      "source": "The value of RSE for this prediction on the testing dataset can be calculated using the following snippet: "
    },
    {
      "metadata": {
        "trusted": true
      },
      "cell_type": "code",
      "source": "import numpy as np \ntesting['sales_pred']=2.86 + 0.04*testing['TV'] + 0.17*testing['Radio'] \ntesting['RSE']=(testing['Sales']-testing['sales_pred'])**2 \nRSEd=testing.sum()['RSE'] \nRSE=np.sqrt(RSEd/51) \nsalesmean=np.mean(testing['Sales']) \nerror=RSE/salesmean \nRSE,salesmean,error",
      "execution_count": 27,
      "outputs": [
        {
          "output_type": "stream",
          "text": "/home/nbuser/anaconda3_501/lib/python3.6/site-packages/ipykernel/__main__.py:2: SettingWithCopyWarning: \nA value is trying to be set on a copy of a slice from a DataFrame.\nTry using .loc[row_indexer,col_indexer] = value instead\n\nSee the caveats in the documentation: http://pandas.pydata.org/pandas-docs/stable/indexing.html#indexing-view-versus-copy\n  from ipykernel import kernelapp as app\n/home/nbuser/anaconda3_501/lib/python3.6/site-packages/ipykernel/__main__.py:3: SettingWithCopyWarning: \nA value is trying to be set on a copy of a slice from a DataFrame.\nTry using .loc[row_indexer,col_indexer] = value instead\n\nSee the caveats in the documentation: http://pandas.pydata.org/pandas-docs/stable/indexing.html#indexing-view-versus-copy\n  app.launch_new_instance()\n",
          "name": "stderr"
        },
        {
          "output_type": "execute_result",
          "execution_count": 27,
          "data": {
            "text/plain": "(2.098512096607461, 14.404255319148932, 0.14568695500819898)"
          },
          "metadata": {}
        }
      ]
    },
    {
      "metadata": {},
      "cell_type": "markdown",
      "source": "The value of RSE comes out to be 2.54 over a sales mean (in the testing data) of 14.80 amounting to an error of 17%.\n\nWe can see that the model doesn't generalize very well on the testing dataset, as the RSE for the same model is different in the two cases. It implies some degree of over fitting when we tried to build the model based on the entire dataset. The RSE with the training-testing split, albeit a bit more, is more reliable and replicable. \n\n## Summary of models \nWe have tried four models previously. Let us summarize the major results from each of the models, at one place:\n\n![image.png](attachment:image.png)\n\nTo summarize, for a good linear model, the predictor variables should be chosen based on the following criteria: \n* $R^2$: $R^2$ will always increase when you add a new predictor variable to the model. However, it is not a very reliable check of the increased efficiency of the model. Rather, for an efficient model, we should check the **adjusted-$R^2$**. This should increase on adding a new predictor variable. \n* **p-values:** The lower the p-value for the estimate of the predictor variable, the better it is to add the predictor variable to the model. \n* **F-statistic:** The value of the F-statistic for the model should increase after the addition of a new predictor variable for a predictor variable to be an efficient addition to the model. The increase in the F-statistic is a proxy to the improvement in the model brought upon solely by the addition of that particular variable. Alternatively, the p-value associated with the F-statistic should decrease on the addition of a new predictor variable. • RSE: The value of RSE for the new model should decrease on the addition of the new predictor variable. \n* **VIF:** To take care of the issues arising due to multi-collinearity one needs to eliminate the variables with large values of VIF. \n\n",
      "attachments": {
        "image.png": {
          "image/png": "[encoded data removed]"
        }
      }
    },
    {
      "metadata": {},
      "cell_type": "markdown",
      "source": "# Linear regression with scikit-learn \nLet's now re-implement the linear regression model using the scikit-learn package. This method is more elegant as it has more in-built methods to perform the regular processes associated with regression. \n\nFor example, you might remember from the last lab that there is a separate method for splitting the dataset into training and testing datasets: "
    },
    {
      "metadata": {
        "trusted": true
      },
      "cell_type": "code",
      "source": "from sklearn.linear_model import LinearRegression \nfrom sklearn.cross_validation import train_test_split \n\nfeature_cols = ['TV', 'Radio'] \nX = advert[feature_cols] \nY = advert['Sales'] \ntrainX,testX,trainY,testY = train_test_split(X,Y, test_size = 0.2) \n\nlm = LinearRegression() \nlm.fit(trainX, trainY)",
      "execution_count": 29,
      "outputs": [
        {
          "output_type": "stream",
          "text": "/home/nbuser/anaconda3_501/lib/python3.6/site-packages/sklearn/cross_validation.py:41: DeprecationWarning: This module was deprecated in version 0.18 in favor of the model_selection module into which all the refactored classes and functions are moved. Also note that the interface of the new CV iterators are different from that of this module. This module will be removed in 0.20.\n  \"This module will be removed in 0.20.\", DeprecationWarning)\n",
          "name": "stderr"
        },
        {
          "output_type": "execute_result",
          "execution_count": 29,
          "data": {
            "text/plain": "LinearRegression(copy_X=True, fit_intercept=True, n_jobs=1, normalize=False)"
          },
          "metadata": {}
        }
      ]
    },
    {
      "metadata": {},
      "cell_type": "markdown",
      "source": "We split the advert dataset into train and test dataset and built the model on TV and radio variables from the test dataset. The following are the parameters of the model: "
    },
    {
      "metadata": {
        "trusted": true
      },
      "cell_type": "code",
      "source": "print (lm.intercept_ )\nprint (lm.coef_ )\n",
      "execution_count": 37,
      "outputs": [
        {
          "output_type": "stream",
          "text": "2.827652394729819\n[0.04501418 0.19464318]\nSolving environment: | ^C\nfailed\n\nCondaError: KeyboardInterrupt\n\n",
          "name": "stdout"
        }
      ]
    },
    {
      "metadata": {},
      "cell_type": "markdown",
      "source": "The result is as follows: \n\n(Note: your resulst may be slightly different depending on how the data has been sampled)\n$$\nIntercept – 2.8, TV coefficient – 0.04, Radio coefficient – 0.19 \n$$\nA better way to look at the coefficients is to use the zip method to write the variable name and coefficient together. The required snippet and the output are mentioned in the following code: "
    },
    {
      "metadata": {
        "trusted": true
      },
      "cell_type": "code",
      "source": "zip(feature_cols, lm.coef_) \n[('TV', 0.045706061219705982), ('Radio', 0.18667738715568111)] ",
      "execution_count": 34,
      "outputs": [
        {
          "output_type": "execute_result",
          "execution_count": 34,
          "data": {
            "text/plain": "[('TV', 0.04570606121970598), ('Radio', 0.1866773871556811)]"
          },
          "metadata": {}
        }
      ]
    },
    {
      "metadata": {},
      "cell_type": "markdown",
      "source": "The value of $R^2$ is calculated by typing the following code: "
    },
    {
      "metadata": {
        "trusted": true
      },
      "cell_type": "code",
      "source": "lm.score(trainX, trainY) ",
      "execution_count": null,
      "outputs": []
    },
    {
      "metadata": {},
      "cell_type": "markdown",
      "source": "The value comes out to be around 0.89, very close to the value obtained by the method used earlier. \n\nThe model can be used to predict the value of sales using TV and radio variables from the test dataset, as follows: "
    },
    {
      "metadata": {
        "trusted": true
      },
      "cell_type": "code",
      "source": "lm.predict(testX)",
      "execution_count": 35,
      "outputs": [
        {
          "output_type": "execute_result",
          "execution_count": 35,
          "data": {
            "text/plain": "array([19.44538199,  3.49519546, 12.69573311, 19.24231623,  7.62225826,\n       20.8339672 , 11.46370881,  9.44062744, 21.43543249, 12.48026043,\n       15.5214624 , 11.61492194,  9.93281899, 17.68606434, 18.26591607,\n       20.80783707, 17.16363371, 12.60554723, 10.55360711, 14.94937555,\n       11.29654493, 14.40459359, 12.22843284,  9.54805007, 19.14778645,\n       13.14872992, 23.23540353, 13.65359363, 19.3020112 , 10.96456933,\n       23.36730898,  6.46691558, 10.56703217, 15.10582698,  6.4224505 ,\n       19.56017617, 14.96322423, 12.6053443 ,  9.76195376,  8.95983806])"
          },
          "metadata": {}
        }
      ]
    },
    {
      "metadata": {},
      "cell_type": "markdown",
      "source": "## Feature selection with scikit-learn \nAs stated before, many of the statistical tools and packages have in-built methods to conduct a variable selection process (forward selection and backward selection). If it is done manually, it will consume a lot of time and selecting the most important variables will be a tedious task compromising the efficiency of the model. \n\nOne advantage of using the scikit-learn package for regression in Python is that it has this particular method for feature selection. This works more or less like backward selection (not exactly) and is called Recursive Feature Elimination (RFE). One can specify the number of variables they want in the final model. \n\nThe model is first run with all the variables and certain weights are assigned to all the variables. In the subsequent iterations, the variables with the smallest weights are pruned from the list of variables till the desired number of variables is left. \n\nLet us see how one can do a feature selection in scikit-learn: "
    },
    {
      "metadata": {
        "trusted": true
      },
      "cell_type": "code",
      "source": "from sklearn.feature_selection import RFE \nfrom sklearn.svm import SVR \nfeature_cols = ['TV', 'Radio','Newspaper'] \nX = advert[feature_cols] \nY = advert['Sales'] \nestimator = SVR(kernel=\"linear\") \nselector = RFE(estimator,2,step=1) \nselector = selector.fit(X, Y)",
      "execution_count": 38,
      "outputs": []
    },
    {
      "metadata": {},
      "cell_type": "markdown",
      "source": "We use the methods named RFE and SVR in-built in scikit-learn. We indicate that we want to estimate a linear model and the number of desired variables in the model to be two. \nTo get the list of selected variables, one can write the following code snippet: "
    },
    {
      "metadata": {
        "trusted": true
      },
      "cell_type": "code",
      "source": "selector.support_ ",
      "execution_count": 39,
      "outputs": [
        {
          "output_type": "execute_result",
          "execution_count": 39,
          "data": {
            "text/plain": "array([ True,  True, False])"
          },
          "metadata": {}
        }
      ]
    },
    {
      "metadata": {},
      "cell_type": "markdown",
      "source": "It results in an array mentioning whether the variables in $X$ have been selected for the model or not. **True** means that the variable has been selected, while **False** means otherwise. In this case, the result is as follows:"
    },
    {
      "metadata": {},
      "cell_type": "markdown",
      "source": "### Result of feature selection process \nIn our case, $X$ consists of three variables: TV, radio, and newspaper. \n\nThe preceding array suggests that TV and radio have been selected for the model, while the newspaper hasn't been selected. This concurs with the variable selection we had done manually. \n\nThis method also returns a ranking, as described in the following example: \n"
    },
    {
      "metadata": {
        "trusted": true
      },
      "cell_type": "code",
      "source": "selector.ranking_  ",
      "execution_count": 40,
      "outputs": [
        {
          "output_type": "execute_result",
          "execution_count": 40,
          "data": {
            "text/plain": "array([1, 1, 2])"
          },
          "metadata": {}
        }
      ]
    },
    {
      "metadata": {},
      "cell_type": "markdown",
      "source": "All the selected variables will have a ranking of 1 while the subsequent ones will be ranked in descending order of their significance. A variable with rank 2 will be more significant to the model than the one with a rank of 3 and so on. \n "
    },
    {
      "metadata": {
        "trusted": true
      },
      "cell_type": "code",
      "source": "",
      "execution_count": null,
      "outputs": []
    }
  ],
  "metadata": {
    "kernelspec": {
      "name": "python36",
      "display_name": "Python 3.6",
      "language": "python"
    },
    "language_info": {
      "mimetype": "text/x-python",
      "nbconvert_exporter": "python",
      "name": "python",
      "pygments_lexer": "ipython3",
      "version": "3.6.6",
      "file_extension": ".py",
      "codemirror_mode": {
        "version": 3,
        "name": "ipython"
      }
    }
  },
  "nbformat": 4,
  "nbformat_minor": 2
}