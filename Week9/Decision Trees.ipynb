{
  "cells": [
    {
      "metadata": {},
      "cell_type": "markdown",
      "source": "## Decision Trees"
    },
    {
      "metadata": {},
      "cell_type": "markdown",
      "source": "Adapted from:  http://scikit-learn.org/stable/auto_examples/tree/plot_iris.html#example-tree-plot-iris-py.\n\nhttps://scikit-learn.org/stable/modules/tree.html#classification\n\n\nFirst, we import the necessary libraries:"
    },
    {
      "metadata": {
        "trusted": true
      },
      "cell_type": "code",
      "source": "import numpy as np\nimport pydot\nimport pylab as pl\n%pylab inline\n\nfrom sklearn.externals.six import StringIO  \nfrom sklearn.datasets import load_iris\nfrom sklearn.tree import DecisionTreeClassifier",
      "execution_count": 3,
      "outputs": [
        {
          "output_type": "stream",
          "text": "/home/nbuser/anaconda2_501/lib/python2.7/site-packages/matplotlib/font_manager.py:281: UserWarning: Matplotlib is building the font cache using fc-list. This may take a moment.\n  'Matplotlib is building the font cache using fc-list. '\n",
          "name": "stderr"
        },
        {
          "output_type": "stream",
          "text": "Populating the interactive namespace from numpy and matplotlib\n",
          "name": "stdout"
        }
      ]
    },
    {
      "metadata": {},
      "cell_type": "markdown",
      "source": "Next, we load the Iris flower dataset:"
    },
    {
      "metadata": {
        "trusted": true
      },
      "cell_type": "code",
      "source": "# Load data\niris = load_iris()",
      "execution_count": 4,
      "outputs": []
    },
    {
      "metadata": {},
      "cell_type": "markdown",
      "source": "Now we run decision trees on each pair of features and plot the results:"
    },
    {
      "metadata": {
        "trusted": true
      },
      "cell_type": "code",
      "source": "# Parameters\nn_classes = 3\nplot_colors = \"bry\"\nplot_step = 0.02\n\nfigure = pl.figure(figsize=(16, 10))\n\nfor pairidx, pair in enumerate([[0, 1], [0, 2], [0, 3],\n                                [1, 2], [1, 3], [2, 3]]):\n     # We only take the two corresponding features\n    X = iris.data[:, pair]\n    y = iris.target\n\n    # Shuffle\n    idx = np.arange(X.shape[0])\n    np.random.seed(13)\n    np.random.shuffle(idx)\n    X = X[idx]\n    y = y[idx]\n\n    # Standardize\n    mean = X.mean(axis=0)\n    std = X.std(axis=0)\n    X = (X - mean) / std\n\n    # Train\n    clf = DecisionTreeClassifier().fit(X, y)\n\n    # Plot the decision boundary\n    pl.subplot(2, 3, pairidx + 1)\n\n    x_min, x_max = X[:, 0].min() - 1, X[:, 0].max() + 1\n    y_min, y_max = X[:, 1].min() - 1, X[:, 1].max() + 1\n    xx, yy = np.meshgrid(np.arange(x_min, x_max, plot_step),\n                         np.arange(y_min, y_max, plot_step))\n\n    Z = clf.predict(np.c_[xx.ravel(), yy.ravel()])\n    Z = Z.reshape(xx.shape)\n    cs = pl.contourf(xx, yy, Z, cmap=pl.cm.Paired)\n\n    pl.xlabel(iris.feature_names[pair[0]], fontsize=14)\n    pl.ylabel(iris.feature_names[pair[1]], fontsize=14)\n    pl.axis(\"tight\")\n\n    # Plot the training points\n    for i, color in zip(range(n_classes), plot_colors):\n        idx = np.where(y == i)\n        pl.scatter(X[idx, 0], X[idx, 1], c=color, label=iris.target_names[i],\n                   cmap=pl.cm.Paired)\n\n    pl.axis(\"tight\")\n\npl.suptitle(\"Decision Surface of a Decision Tree Using Paired Features\", fontsize=20)\npl.legend()\npl.show()\n\n\n",
      "execution_count": 2,
      "outputs": [
        {
          "output_type": "error",
          "ename": "NameError",
          "evalue": "name 'pl' is not defined",
          "traceback": [
            "\u001b[0;31m\u001b[0m",
            "\u001b[0;31mNameError\u001b[0mTraceback (most recent call last)",
            "\u001b[0;32m<ipython-input-2-212405c67aae>\u001b[0m in \u001b[0;36m<module>\u001b[0;34m()\u001b[0m\n\u001b[1;32m      4\u001b[0m \u001b[0mplot_step\u001b[0m \u001b[0;34m=\u001b[0m \u001b[0;36m0.02\u001b[0m\u001b[0;34m\u001b[0m\u001b[0m\n\u001b[1;32m      5\u001b[0m \u001b[0;34m\u001b[0m\u001b[0m\n\u001b[0;32m----> 6\u001b[0;31m \u001b[0mfigure\u001b[0m \u001b[0;34m=\u001b[0m \u001b[0mpl\u001b[0m\u001b[0;34m.\u001b[0m\u001b[0mfigure\u001b[0m\u001b[0;34m(\u001b[0m\u001b[0mfigsize\u001b[0m\u001b[0;34m=\u001b[0m\u001b[0;34m(\u001b[0m\u001b[0;36m16\u001b[0m\u001b[0;34m,\u001b[0m \u001b[0;36m10\u001b[0m\u001b[0;34m)\u001b[0m\u001b[0;34m)\u001b[0m\u001b[0;34m\u001b[0m\u001b[0m\n\u001b[0m\u001b[1;32m      7\u001b[0m \u001b[0;34m\u001b[0m\u001b[0m\n\u001b[1;32m      8\u001b[0m for pairidx, pair in enumerate([[0, 1], [0, 2], [0, 3],\n",
            "\u001b[0;31mNameError\u001b[0m: name 'pl' is not defined"
          ]
        }
      ]
    },
    {
      "metadata": {
        "trusted": false
      },
      "cell_type": "code",
      "source": "",
      "execution_count": null,
      "outputs": []
    }
  ],
  "metadata": {
    "kernelspec": {
      "name": "python2",
      "display_name": "Python 2",
      "language": "python"
    },
    "language_info": {
      "mimetype": "text/x-python",
      "nbconvert_exporter": "python",
      "name": "python",
      "pygments_lexer": "ipython2",
      "version": "2.7.15",
      "file_extension": ".py",
      "codemirror_mode": {
        "version": 2,
        "name": "ipython"
      }
    }
  },
  "nbformat": 4,
  "nbformat_minor": 1
}